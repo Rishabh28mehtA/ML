{
  "cells": [
    {
      "cell_type": "code",
      "execution_count": null,
      "metadata": {
        "id": "MLhyu3LSMnOY"
      },
      "outputs": [],
      "source": [
        "import numpy as np # linear algebra\n",
        "import pandas as pd # data processing, CSV file I/O (e.g. pd.read_csv)\n",
        "import matplotlib.pyplot as plt # for data visualization\n",
        "import time # for measuring execution time\n",
        "import seaborn as sns # for statistical data visualization\n",
        "%matplotlib inline\n"
      ]
    },
    {
      "cell_type": "code",
      "execution_count": null,
      "metadata": {
        "id": "0kLiXD4rMxDg"
      },
      "outputs": [],
      "source": [
        "import warnings\n",
        "\n",
        "warnings.filterwarnings('ignore')"
      ]
    },
    {
      "cell_type": "code",
      "execution_count": null,
      "metadata": {
        "id": "yS1aR8XiMxAX"
      },
      "outputs": [],
      "source": [
        "#Loading the data\n",
        "\n",
        "df = pd.read_csv(\"/content/drive/MyDrive/Colab_Notebooks/4050/taiwanese_bankruptcy_prediction.csv\")"
      ]
    },
    {
      "cell_type": "code",
      "execution_count": null,
      "metadata": {
        "colab": {
          "base_uri": "https://localhost:8080/"
        },
        "id": "CCqenw0cMw8_",
        "outputId": "857547e1-4c71-4dea-e363-60ce29956ae6"
      },
      "outputs": [
        {
          "data": {
            "text/plain": [
              "(6819, 96)"
            ]
          },
          "execution_count": 5,
          "metadata": {},
          "output_type": "execute_result"
        }
      ],
      "source": [
        "# view dimensions of dataset\n",
        "\n",
        "df.shape"
      ]
    },
    {
      "cell_type": "code",
      "execution_count": null,
      "metadata": {
        "colab": {
          "base_uri": "https://localhost:8080/"
        },
        "id": "Ko43Dea7Mw6X",
        "outputId": "d6600181-df31-4502-efd4-cad205c7beaa"
      },
      "outputs": [
        {
          "data": {
            "text/plain": [
              "Index(['Bankrupt?', ' ROA(C) before interest and depreciation before interest',\n",
              "       ' ROA(A) before interest and % after tax',\n",
              "       ' ROA(B) before interest and depreciation after tax',\n",
              "       ' Operating Gross Margin', ' Realized Sales Gross Margin',\n",
              "       ' Operating Profit Rate', ' Pre-tax net Interest Rate',\n",
              "       ' After-tax net Interest Rate',\n",
              "       ' Non-industry income and expenditure/revenue',\n",
              "       ' Continuous interest rate (after tax)', ' Operating Expense Rate',\n",
              "       ' Research and development expense rate', ' Cash flow rate',\n",
              "       ' Interest-bearing debt interest rate', ' Tax rate (A)',\n",
              "       ' Net Value Per Share (B)', ' Net Value Per Share (A)',\n",
              "       ' Net Value Per Share (C)', ' Persistent EPS in the Last Four Seasons',\n",
              "       ' Cash Flow Per Share', ' Revenue Per Share (Yuan ¥)',\n",
              "       ' Operating Profit Per Share (Yuan ¥)',\n",
              "       ' Per Share Net profit before tax (Yuan ¥)',\n",
              "       ' Realized Sales Gross Profit Growth Rate',\n",
              "       ' Operating Profit Growth Rate', ' After-tax Net Profit Growth Rate',\n",
              "       ' Regular Net Profit Growth Rate', ' Continuous Net Profit Growth Rate',\n",
              "       ' Total Asset Growth Rate', ' Net Value Growth Rate',\n",
              "       ' Total Asset Return Growth Rate Ratio', ' Cash Reinvestment %',\n",
              "       ' Current Ratio', ' Quick Ratio', ' Interest Expense Ratio',\n",
              "       ' Total debt/Total net worth', ' Debt ratio %', ' Net worth/Assets',\n",
              "       ' Long-term fund suitability ratio (A)', ' Borrowing dependency',\n",
              "       ' Contingent liabilities/Net worth',\n",
              "       ' Operating profit/Paid-in capital',\n",
              "       ' Net profit before tax/Paid-in capital',\n",
              "       ' Inventory and accounts receivable/Net value', ' Total Asset Turnover',\n",
              "       ' Accounts Receivable Turnover', ' Average Collection Days',\n",
              "       ' Inventory Turnover Rate (times)', ' Fixed Assets Turnover Frequency',\n",
              "       ' Net Worth Turnover Rate (times)', ' Revenue per person',\n",
              "       ' Operating profit per person', ' Allocation rate per person',\n",
              "       ' Working Capital to Total Assets', ' Quick Assets/Total Assets',\n",
              "       ' Current Assets/Total Assets', ' Cash/Total Assets',\n",
              "       ' Quick Assets/Current Liability', ' Cash/Current Liability',\n",
              "       ' Current Liability to Assets', ' Operating Funds to Liability',\n",
              "       ' Inventory/Working Capital', ' Inventory/Current Liability',\n",
              "       ' Current Liabilities/Liability', ' Working Capital/Equity',\n",
              "       ' Current Liabilities/Equity', ' Long-term Liability to Current Assets',\n",
              "       ' Retained Earnings to Total Assets', ' Total income/Total expense',\n",
              "       ' Total expense/Assets', ' Current Asset Turnover Rate',\n",
              "       ' Quick Asset Turnover Rate', ' Working capitcal Turnover Rate',\n",
              "       ' Cash Turnover Rate', ' Cash Flow to Sales', ' Fixed Assets to Assets',\n",
              "       ' Current Liability to Liability', ' Current Liability to Equity',\n",
              "       ' Equity to Long-term Liability', ' Cash Flow to Total Assets',\n",
              "       ' Cash Flow to Liability', ' CFO to Assets', ' Cash Flow to Equity',\n",
              "       ' Current Liability to Current Assets', ' Liability-Assets Flag',\n",
              "       ' Net Income to Total Assets', ' Total assets to GNP price',\n",
              "       ' No-credit Interval', ' Gross Profit to Sales',\n",
              "       ' Net Income to Stockholder's Equity', ' Liability to Equity',\n",
              "       ' Degree of Financial Leverage (DFL)',\n",
              "       ' Interest Coverage Ratio (Interest expense to EBIT)',\n",
              "       ' Net Income Flag', ' Equity to Liability'],\n",
              "      dtype='object')"
            ]
          },
          "execution_count": 6,
          "metadata": {},
          "output_type": "execute_result"
        }
      ],
      "source": [
        "# view the column names of the dataframe\n",
        "\n",
        "col_names = df.columns\n",
        "\n",
        "col_names"
      ]
    },
    {
      "cell_type": "code",
      "execution_count": null,
      "metadata": {
        "id": "ii9JPd6jNXTI"
      },
      "outputs": [],
      "source": [
        "# remove leading spaces from column names\n",
        "\n",
        "df.columns = df.columns.str.strip()"
      ]
    },
    {
      "cell_type": "code",
      "execution_count": null,
      "metadata": {
        "colab": {
          "base_uri": "https://localhost:8080/"
        },
        "id": "oMlRtLKLNXQe",
        "outputId": "d4c84d42-eac0-4b19-8afc-86c284a7dda9"
      },
      "outputs": [
        {
          "data": {
            "text/plain": [
              "Index(['Bankrupt?', 'ROA(C) before interest and depreciation before interest',\n",
              "       'ROA(A) before interest and % after tax',\n",
              "       'ROA(B) before interest and depreciation after tax',\n",
              "       'Operating Gross Margin', 'Realized Sales Gross Margin',\n",
              "       'Operating Profit Rate', 'Pre-tax net Interest Rate',\n",
              "       'After-tax net Interest Rate',\n",
              "       'Non-industry income and expenditure/revenue',\n",
              "       'Continuous interest rate (after tax)', 'Operating Expense Rate',\n",
              "       'Research and development expense rate', 'Cash flow rate',\n",
              "       'Interest-bearing debt interest rate', 'Tax rate (A)',\n",
              "       'Net Value Per Share (B)', 'Net Value Per Share (A)',\n",
              "       'Net Value Per Share (C)', 'Persistent EPS in the Last Four Seasons',\n",
              "       'Cash Flow Per Share', 'Revenue Per Share (Yuan ¥)',\n",
              "       'Operating Profit Per Share (Yuan ¥)',\n",
              "       'Per Share Net profit before tax (Yuan ¥)',\n",
              "       'Realized Sales Gross Profit Growth Rate',\n",
              "       'Operating Profit Growth Rate', 'After-tax Net Profit Growth Rate',\n",
              "       'Regular Net Profit Growth Rate', 'Continuous Net Profit Growth Rate',\n",
              "       'Total Asset Growth Rate', 'Net Value Growth Rate',\n",
              "       'Total Asset Return Growth Rate Ratio', 'Cash Reinvestment %',\n",
              "       'Current Ratio', 'Quick Ratio', 'Interest Expense Ratio',\n",
              "       'Total debt/Total net worth', 'Debt ratio %', 'Net worth/Assets',\n",
              "       'Long-term fund suitability ratio (A)', 'Borrowing dependency',\n",
              "       'Contingent liabilities/Net worth', 'Operating profit/Paid-in capital',\n",
              "       'Net profit before tax/Paid-in capital',\n",
              "       'Inventory and accounts receivable/Net value', 'Total Asset Turnover',\n",
              "       'Accounts Receivable Turnover', 'Average Collection Days',\n",
              "       'Inventory Turnover Rate (times)', 'Fixed Assets Turnover Frequency',\n",
              "       'Net Worth Turnover Rate (times)', 'Revenue per person',\n",
              "       'Operating profit per person', 'Allocation rate per person',\n",
              "       'Working Capital to Total Assets', 'Quick Assets/Total Assets',\n",
              "       'Current Assets/Total Assets', 'Cash/Total Assets',\n",
              "       'Quick Assets/Current Liability', 'Cash/Current Liability',\n",
              "       'Current Liability to Assets', 'Operating Funds to Liability',\n",
              "       'Inventory/Working Capital', 'Inventory/Current Liability',\n",
              "       'Current Liabilities/Liability', 'Working Capital/Equity',\n",
              "       'Current Liabilities/Equity', 'Long-term Liability to Current Assets',\n",
              "       'Retained Earnings to Total Assets', 'Total income/Total expense',\n",
              "       'Total expense/Assets', 'Current Asset Turnover Rate',\n",
              "       'Quick Asset Turnover Rate', 'Working capitcal Turnover Rate',\n",
              "       'Cash Turnover Rate', 'Cash Flow to Sales', 'Fixed Assets to Assets',\n",
              "       'Current Liability to Liability', 'Current Liability to Equity',\n",
              "       'Equity to Long-term Liability', 'Cash Flow to Total Assets',\n",
              "       'Cash Flow to Liability', 'CFO to Assets', 'Cash Flow to Equity',\n",
              "       'Current Liability to Current Assets', 'Liability-Assets Flag',\n",
              "       'Net Income to Total Assets', 'Total assets to GNP price',\n",
              "       'No-credit Interval', 'Gross Profit to Sales',\n",
              "       'Net Income to Stockholder's Equity', 'Liability to Equity',\n",
              "       'Degree of Financial Leverage (DFL)',\n",
              "       'Interest Coverage Ratio (Interest expense to EBIT)', 'Net Income Flag',\n",
              "       'Equity to Liability'],\n",
              "      dtype='object')"
            ]
          },
          "execution_count": 8,
          "metadata": {},
          "output_type": "execute_result"
        }
      ],
      "source": [
        "# view column names again\n",
        "\n",
        "df.columns"
      ]
    },
    {
      "cell_type": "code",
      "execution_count": null,
      "metadata": {
        "id": "doUybxK8NXNl"
      },
      "outputs": [],
      "source": [
        "# rename column names\n",
        "\n",
        "#df.columns = ['IP Mean', 'IP Sd', 'IP Kurtosis', 'IP Skewness',\n",
        " #             'DM-SNR Mean', 'DM-SNR Sd', 'DM-SNR Kurtosis', 'DM-SNR Skewness', 'target_class']"
      ]
    },
    {
      "cell_type": "code",
      "execution_count": null,
      "metadata": {
        "id": "dcO6i7-yNXKs"
      },
      "outputs": [],
      "source": [
        "# view the renamed column names\n",
        "\n",
        "#df.columns"
      ]
    },
    {
      "cell_type": "code",
      "execution_count": null,
      "metadata": {
        "colab": {
          "base_uri": "https://localhost:8080/"
        },
        "id": "qoJNjlszNXIJ",
        "outputId": "c2e6bf57-42e6-4b79-aab1-f3d70ec3515c"
      },
      "outputs": [
        {
          "data": {
            "text/plain": [
              "Bankrupt?\n",
              "0    6599\n",
              "1     220\n",
              "Name: count, dtype: int64"
            ]
          },
          "execution_count": 11,
          "metadata": {},
          "output_type": "execute_result"
        }
      ],
      "source": [
        "# check distribution of target_class column\n",
        "\n",
        "df['Bankrupt?'].value_counts()"
      ]
    },
    {
      "cell_type": "code",
      "execution_count": null,
      "metadata": {
        "colab": {
          "base_uri": "https://localhost:8080/"
        },
        "id": "k-jBTKWfOixp",
        "outputId": "40de9192-e87e-429c-88b1-35046238b77b"
      },
      "outputs": [
        {
          "data": {
            "text/plain": [
              "Bankrupt?\n",
              "0    0.967737\n",
              "1    0.032263\n",
              "Name: count, dtype: float64"
            ]
          },
          "execution_count": 12,
          "metadata": {},
          "output_type": "execute_result"
        }
      ],
      "source": [
        "# view the percentage distribution of target_class column\n",
        "\n",
        "df['Bankrupt?'].value_counts()/float(len(df))"
      ]
    },
    {
      "cell_type": "code",
      "execution_count": null,
      "metadata": {
        "colab": {
          "base_uri": "https://localhost:8080/"
        },
        "id": "ekd7hPuCOiu7",
        "outputId": "04dbbef1-034c-4204-f4f9-aaee9c7bb6fd"
      },
      "outputs": [
        {
          "name": "stdout",
          "output_type": "stream",
          "text": [
            "<class 'pandas.core.frame.DataFrame'>\n",
            "RangeIndex: 6819 entries, 0 to 6818\n",
            "Data columns (total 96 columns):\n",
            " #   Column                                                   Non-Null Count  Dtype  \n",
            "---  ------                                                   --------------  -----  \n",
            " 0   Bankrupt?                                                6819 non-null   int64  \n",
            " 1   ROA(C) before interest and depreciation before interest  6819 non-null   float64\n",
            " 2   ROA(A) before interest and % after tax                   6819 non-null   float64\n",
            " 3   ROA(B) before interest and depreciation after tax        6819 non-null   float64\n",
            " 4   Operating Gross Margin                                   6819 non-null   float64\n",
            " 5   Realized Sales Gross Margin                              6819 non-null   float64\n",
            " 6   Operating Profit Rate                                    6819 non-null   float64\n",
            " 7   Pre-tax net Interest Rate                                6819 non-null   float64\n",
            " 8   After-tax net Interest Rate                              6819 non-null   float64\n",
            " 9   Non-industry income and expenditure/revenue              6819 non-null   float64\n",
            " 10  Continuous interest rate (after tax)                     6819 non-null   float64\n",
            " 11  Operating Expense Rate                                   6819 non-null   float64\n",
            " 12  Research and development expense rate                    6819 non-null   float64\n",
            " 13  Cash flow rate                                           6819 non-null   float64\n",
            " 14  Interest-bearing debt interest rate                      6819 non-null   float64\n",
            " 15  Tax rate (A)                                             6819 non-null   float64\n",
            " 16  Net Value Per Share (B)                                  6819 non-null   float64\n",
            " 17  Net Value Per Share (A)                                  6819 non-null   float64\n",
            " 18  Net Value Per Share (C)                                  6819 non-null   float64\n",
            " 19  Persistent EPS in the Last Four Seasons                  6819 non-null   float64\n",
            " 20  Cash Flow Per Share                                      6819 non-null   float64\n",
            " 21  Revenue Per Share (Yuan ¥)                               6819 non-null   float64\n",
            " 22  Operating Profit Per Share (Yuan ¥)                      6819 non-null   float64\n",
            " 23  Per Share Net profit before tax (Yuan ¥)                 6819 non-null   float64\n",
            " 24  Realized Sales Gross Profit Growth Rate                  6819 non-null   float64\n",
            " 25  Operating Profit Growth Rate                             6819 non-null   float64\n",
            " 26  After-tax Net Profit Growth Rate                         6819 non-null   float64\n",
            " 27  Regular Net Profit Growth Rate                           6819 non-null   float64\n",
            " 28  Continuous Net Profit Growth Rate                        6819 non-null   float64\n",
            " 29  Total Asset Growth Rate                                  6819 non-null   float64\n",
            " 30  Net Value Growth Rate                                    6819 non-null   float64\n",
            " 31  Total Asset Return Growth Rate Ratio                     6819 non-null   float64\n",
            " 32  Cash Reinvestment %                                      6819 non-null   float64\n",
            " 33  Current Ratio                                            6819 non-null   float64\n",
            " 34  Quick Ratio                                              6819 non-null   float64\n",
            " 35  Interest Expense Ratio                                   6819 non-null   float64\n",
            " 36  Total debt/Total net worth                               6819 non-null   float64\n",
            " 37  Debt ratio %                                             6819 non-null   float64\n",
            " 38  Net worth/Assets                                         6819 non-null   float64\n",
            " 39  Long-term fund suitability ratio (A)                     6819 non-null   float64\n",
            " 40  Borrowing dependency                                     6819 non-null   float64\n",
            " 41  Contingent liabilities/Net worth                         6819 non-null   float64\n",
            " 42  Operating profit/Paid-in capital                         6819 non-null   float64\n",
            " 43  Net profit before tax/Paid-in capital                    6819 non-null   float64\n",
            " 44  Inventory and accounts receivable/Net value              6819 non-null   float64\n",
            " 45  Total Asset Turnover                                     6819 non-null   float64\n",
            " 46  Accounts Receivable Turnover                             6819 non-null   float64\n",
            " 47  Average Collection Days                                  6819 non-null   float64\n",
            " 48  Inventory Turnover Rate (times)                          6819 non-null   float64\n",
            " 49  Fixed Assets Turnover Frequency                          6819 non-null   float64\n",
            " 50  Net Worth Turnover Rate (times)                          6819 non-null   float64\n",
            " 51  Revenue per person                                       6819 non-null   float64\n",
            " 52  Operating profit per person                              6819 non-null   float64\n",
            " 53  Allocation rate per person                               6819 non-null   float64\n",
            " 54  Working Capital to Total Assets                          6819 non-null   float64\n",
            " 55  Quick Assets/Total Assets                                6819 non-null   float64\n",
            " 56  Current Assets/Total Assets                              6819 non-null   float64\n",
            " 57  Cash/Total Assets                                        6819 non-null   float64\n",
            " 58  Quick Assets/Current Liability                           6819 non-null   float64\n",
            " 59  Cash/Current Liability                                   6819 non-null   float64\n",
            " 60  Current Liability to Assets                              6819 non-null   float64\n",
            " 61  Operating Funds to Liability                             6819 non-null   float64\n",
            " 62  Inventory/Working Capital                                6819 non-null   float64\n",
            " 63  Inventory/Current Liability                              6819 non-null   float64\n",
            " 64  Current Liabilities/Liability                            6819 non-null   float64\n",
            " 65  Working Capital/Equity                                   6819 non-null   float64\n",
            " 66  Current Liabilities/Equity                               6819 non-null   float64\n",
            " 67  Long-term Liability to Current Assets                    6819 non-null   float64\n",
            " 68  Retained Earnings to Total Assets                        6819 non-null   float64\n",
            " 69  Total income/Total expense                               6819 non-null   float64\n",
            " 70  Total expense/Assets                                     6819 non-null   float64\n",
            " 71  Current Asset Turnover Rate                              6819 non-null   float64\n",
            " 72  Quick Asset Turnover Rate                                6819 non-null   float64\n",
            " 73  Working capitcal Turnover Rate                           6819 non-null   float64\n",
            " 74  Cash Turnover Rate                                       6819 non-null   float64\n",
            " 75  Cash Flow to Sales                                       6819 non-null   float64\n",
            " 76  Fixed Assets to Assets                                   6819 non-null   float64\n",
            " 77  Current Liability to Liability                           6819 non-null   float64\n",
            " 78  Current Liability to Equity                              6819 non-null   float64\n",
            " 79  Equity to Long-term Liability                            6819 non-null   float64\n",
            " 80  Cash Flow to Total Assets                                6819 non-null   float64\n",
            " 81  Cash Flow to Liability                                   6819 non-null   float64\n",
            " 82  CFO to Assets                                            6819 non-null   float64\n",
            " 83  Cash Flow to Equity                                      6819 non-null   float64\n",
            " 84  Current Liability to Current Assets                      6819 non-null   float64\n",
            " 85  Liability-Assets Flag                                    6819 non-null   int64  \n",
            " 86  Net Income to Total Assets                               6819 non-null   float64\n",
            " 87  Total assets to GNP price                                6819 non-null   float64\n",
            " 88  No-credit Interval                                       6819 non-null   float64\n",
            " 89  Gross Profit to Sales                                    6819 non-null   float64\n",
            " 90  Net Income to Stockholder's Equity                       6819 non-null   float64\n",
            " 91  Liability to Equity                                      6819 non-null   float64\n",
            " 92  Degree of Financial Leverage (DFL)                       6819 non-null   float64\n",
            " 93  Interest Coverage Ratio (Interest expense to EBIT)       6819 non-null   float64\n",
            " 94  Net Income Flag                                          6819 non-null   int64  \n",
            " 95  Equity to Liability                                      6819 non-null   float64\n",
            "dtypes: float64(93), int64(3)\n",
            "memory usage: 5.0 MB\n"
          ]
        }
      ],
      "source": [
        "# view summary of dataset\n",
        "\n",
        "df.info()"
      ]
    },
    {
      "cell_type": "code",
      "execution_count": null,
      "metadata": {
        "colab": {
          "base_uri": "https://localhost:8080/"
        },
        "id": "WeelJ1GMOisU",
        "outputId": "e2f760f4-dad9-4f55-a970-c74b0fe4ba29"
      },
      "outputs": [
        {
          "data": {
            "text/plain": [
              "Bankrupt?                                                  0\n",
              "ROA(C) before interest and depreciation before interest    0\n",
              "ROA(A) before interest and % after tax                     0\n",
              "ROA(B) before interest and depreciation after tax          0\n",
              "Operating Gross Margin                                     0\n",
              "                                                          ..\n",
              "Liability to Equity                                        0\n",
              "Degree of Financial Leverage (DFL)                         0\n",
              "Interest Coverage Ratio (Interest expense to EBIT)         0\n",
              "Net Income Flag                                            0\n",
              "Equity to Liability                                        0\n",
              "Length: 96, dtype: int64"
            ]
          },
          "execution_count": 14,
          "metadata": {},
          "output_type": "execute_result"
        }
      ],
      "source": [
        "# check for missing values in variables\n",
        "\n",
        "df.isnull().sum()"
      ]
    },
    {
      "cell_type": "code",
      "execution_count": null,
      "metadata": {
        "colab": {
          "base_uri": "https://localhost:8080/"
        },
        "id": "Mbm8zQCQ5IUz",
        "outputId": "f6348596-923f-49c5-de89-60f54319e583"
      },
      "outputs": [
        {
          "data": {
            "text/plain": [
              "Index(['Bankrupt?', 'ROA(C) before interest and depreciation before interest',\n",
              "       'ROA(A) before interest and % after tax',\n",
              "       'ROA(B) before interest and depreciation after tax',\n",
              "       'Operating Gross Margin', 'Realized Sales Gross Margin',\n",
              "       'Operating Profit Rate', 'Pre-tax net Interest Rate',\n",
              "       'After-tax net Interest Rate',\n",
              "       'Non-industry income and expenditure/revenue',\n",
              "       'Continuous interest rate (after tax)', 'Operating Expense Rate',\n",
              "       'Research and development expense rate', 'Cash flow rate',\n",
              "       'Interest-bearing debt interest rate', 'Tax rate (A)',\n",
              "       'Net Value Per Share (B)', 'Net Value Per Share (A)',\n",
              "       'Net Value Per Share (C)', 'Persistent EPS in the Last Four Seasons',\n",
              "       'Cash Flow Per Share', 'Revenue Per Share (Yuan ¥)',\n",
              "       'Operating Profit Per Share (Yuan ¥)',\n",
              "       'Per Share Net profit before tax (Yuan ¥)',\n",
              "       'Realized Sales Gross Profit Growth Rate',\n",
              "       'Operating Profit Growth Rate', 'After-tax Net Profit Growth Rate',\n",
              "       'Regular Net Profit Growth Rate', 'Continuous Net Profit Growth Rate',\n",
              "       'Total Asset Growth Rate', 'Net Value Growth Rate',\n",
              "       'Total Asset Return Growth Rate Ratio', 'Cash Reinvestment %',\n",
              "       'Current Ratio', 'Quick Ratio', 'Interest Expense Ratio',\n",
              "       'Total debt/Total net worth', 'Debt ratio %', 'Net worth/Assets',\n",
              "       'Long-term fund suitability ratio (A)', 'Borrowing dependency',\n",
              "       'Contingent liabilities/Net worth', 'Operating profit/Paid-in capital',\n",
              "       'Net profit before tax/Paid-in capital',\n",
              "       'Inventory and accounts receivable/Net value', 'Total Asset Turnover',\n",
              "       'Accounts Receivable Turnover', 'Average Collection Days',\n",
              "       'Inventory Turnover Rate (times)', 'Fixed Assets Turnover Frequency',\n",
              "       'Net Worth Turnover Rate (times)', 'Revenue per person',\n",
              "       'Operating profit per person', 'Allocation rate per person',\n",
              "       'Working Capital to Total Assets', 'Quick Assets/Total Assets',\n",
              "       'Current Assets/Total Assets', 'Cash/Total Assets',\n",
              "       'Quick Assets/Current Liability', 'Cash/Current Liability',\n",
              "       'Current Liability to Assets', 'Operating Funds to Liability',\n",
              "       'Inventory/Working Capital', 'Inventory/Current Liability',\n",
              "       'Current Liabilities/Liability', 'Working Capital/Equity',\n",
              "       'Current Liabilities/Equity', 'Long-term Liability to Current Assets',\n",
              "       'Retained Earnings to Total Assets', 'Total income/Total expense',\n",
              "       'Total expense/Assets', 'Current Asset Turnover Rate',\n",
              "       'Quick Asset Turnover Rate', 'Working capitcal Turnover Rate',\n",
              "       'Cash Turnover Rate', 'Cash Flow to Sales', 'Fixed Assets to Assets',\n",
              "       'Current Liability to Liability', 'Current Liability to Equity',\n",
              "       'Equity to Long-term Liability', 'Cash Flow to Total Assets',\n",
              "       'Cash Flow to Liability', 'CFO to Assets', 'Cash Flow to Equity',\n",
              "       'Current Liability to Current Assets', 'Liability-Assets Flag',\n",
              "       'Net Income to Total Assets', 'Total assets to GNP price',\n",
              "       'No-credit Interval', 'Gross Profit to Sales',\n",
              "       'Net Income to Stockholder's Equity', 'Liability to Equity',\n",
              "       'Degree of Financial Leverage (DFL)',\n",
              "       'Interest Coverage Ratio (Interest expense to EBIT)', 'Net Income Flag',\n",
              "       'Equity to Liability'],\n",
              "      dtype='object')"
            ]
          },
          "execution_count": 15,
          "metadata": {},
          "output_type": "execute_result"
        }
      ],
      "source": [
        "df.columns"
      ]
    },
    {
      "cell_type": "code",
      "execution_count": null,
      "metadata": {
        "colab": {
          "base_uri": "https://localhost:8080/",
          "height": 436
        },
        "id": "XUgVryzxOiph",
        "outputId": "bb18513d-f3a8-45df-9a83-25ad228eddde"
      },
      "outputs": [
        {
          "data": {
            "application/vnd.google.colaboratory.intrinsic+json": {
              "type": "dataframe"
            },
            "text/html": [
              "\n",
              "  <div id=\"df-fc53b0c1-6786-49ab-9b8e-48420c501912\" class=\"colab-df-container\">\n",
              "    <div>\n",
              "<style scoped>\n",
              "    .dataframe tbody tr th:only-of-type {\n",
              "        vertical-align: middle;\n",
              "    }\n",
              "\n",
              "    .dataframe tbody tr th {\n",
              "        vertical-align: top;\n",
              "    }\n",
              "\n",
              "    .dataframe thead th {\n",
              "        text-align: right;\n",
              "    }\n",
              "</style>\n",
              "<table border=\"1\" class=\"dataframe\">\n",
              "  <thead>\n",
              "    <tr style=\"text-align: right;\">\n",
              "      <th></th>\n",
              "      <th>Bankrupt?</th>\n",
              "      <th>ROA(C) before interest and depreciation before interest</th>\n",
              "      <th>ROA(A) before interest and % after tax</th>\n",
              "      <th>ROA(B) before interest and depreciation after tax</th>\n",
              "      <th>Operating Gross Margin</th>\n",
              "      <th>Realized Sales Gross Margin</th>\n",
              "      <th>Operating Profit Rate</th>\n",
              "      <th>Pre-tax net Interest Rate</th>\n",
              "      <th>After-tax net Interest Rate</th>\n",
              "      <th>Non-industry income and expenditure/revenue</th>\n",
              "      <th>...</th>\n",
              "      <th>Net Income to Total Assets</th>\n",
              "      <th>Total assets to GNP price</th>\n",
              "      <th>No-credit Interval</th>\n",
              "      <th>Gross Profit to Sales</th>\n",
              "      <th>Net Income to Stockholder's Equity</th>\n",
              "      <th>Liability to Equity</th>\n",
              "      <th>Degree of Financial Leverage (DFL)</th>\n",
              "      <th>Interest Coverage Ratio (Interest expense to EBIT)</th>\n",
              "      <th>Net Income Flag</th>\n",
              "      <th>Equity to Liability</th>\n",
              "    </tr>\n",
              "  </thead>\n",
              "  <tbody>\n",
              "    <tr>\n",
              "      <th>count</th>\n",
              "      <td>6819.00</td>\n",
              "      <td>6819.00</td>\n",
              "      <td>6819.00</td>\n",
              "      <td>6819.00</td>\n",
              "      <td>6819.00</td>\n",
              "      <td>6819.00</td>\n",
              "      <td>6819.00</td>\n",
              "      <td>6819.00</td>\n",
              "      <td>6819.00</td>\n",
              "      <td>6819.00</td>\n",
              "      <td>...</td>\n",
              "      <td>6819.00</td>\n",
              "      <td>6.819000e+03</td>\n",
              "      <td>6819.00</td>\n",
              "      <td>6819.00</td>\n",
              "      <td>6819.00</td>\n",
              "      <td>6819.00</td>\n",
              "      <td>6819.00</td>\n",
              "      <td>6819.00</td>\n",
              "      <td>6819.0</td>\n",
              "      <td>6819.00</td>\n",
              "    </tr>\n",
              "    <tr>\n",
              "      <th>mean</th>\n",
              "      <td>0.03</td>\n",
              "      <td>0.51</td>\n",
              "      <td>0.56</td>\n",
              "      <td>0.55</td>\n",
              "      <td>0.61</td>\n",
              "      <td>0.61</td>\n",
              "      <td>1.00</td>\n",
              "      <td>0.80</td>\n",
              "      <td>0.81</td>\n",
              "      <td>0.30</td>\n",
              "      <td>...</td>\n",
              "      <td>0.81</td>\n",
              "      <td>1.862942e+07</td>\n",
              "      <td>0.62</td>\n",
              "      <td>0.61</td>\n",
              "      <td>0.84</td>\n",
              "      <td>0.28</td>\n",
              "      <td>0.03</td>\n",
              "      <td>0.57</td>\n",
              "      <td>1.0</td>\n",
              "      <td>0.05</td>\n",
              "    </tr>\n",
              "    <tr>\n",
              "      <th>std</th>\n",
              "      <td>0.18</td>\n",
              "      <td>0.06</td>\n",
              "      <td>0.07</td>\n",
              "      <td>0.06</td>\n",
              "      <td>0.02</td>\n",
              "      <td>0.02</td>\n",
              "      <td>0.01</td>\n",
              "      <td>0.01</td>\n",
              "      <td>0.01</td>\n",
              "      <td>0.01</td>\n",
              "      <td>...</td>\n",
              "      <td>0.04</td>\n",
              "      <td>3.764501e+08</td>\n",
              "      <td>0.01</td>\n",
              "      <td>0.02</td>\n",
              "      <td>0.01</td>\n",
              "      <td>0.01</td>\n",
              "      <td>0.02</td>\n",
              "      <td>0.01</td>\n",
              "      <td>0.0</td>\n",
              "      <td>0.05</td>\n",
              "    </tr>\n",
              "    <tr>\n",
              "      <th>min</th>\n",
              "      <td>0.00</td>\n",
              "      <td>0.00</td>\n",
              "      <td>0.00</td>\n",
              "      <td>0.00</td>\n",
              "      <td>0.00</td>\n",
              "      <td>0.00</td>\n",
              "      <td>0.00</td>\n",
              "      <td>0.00</td>\n",
              "      <td>0.00</td>\n",
              "      <td>0.00</td>\n",
              "      <td>...</td>\n",
              "      <td>0.00</td>\n",
              "      <td>0.000000e+00</td>\n",
              "      <td>0.00</td>\n",
              "      <td>0.00</td>\n",
              "      <td>0.00</td>\n",
              "      <td>0.00</td>\n",
              "      <td>0.00</td>\n",
              "      <td>0.00</td>\n",
              "      <td>1.0</td>\n",
              "      <td>0.00</td>\n",
              "    </tr>\n",
              "    <tr>\n",
              "      <th>25%</th>\n",
              "      <td>0.00</td>\n",
              "      <td>0.48</td>\n",
              "      <td>0.54</td>\n",
              "      <td>0.53</td>\n",
              "      <td>0.60</td>\n",
              "      <td>0.60</td>\n",
              "      <td>1.00</td>\n",
              "      <td>0.80</td>\n",
              "      <td>0.81</td>\n",
              "      <td>0.30</td>\n",
              "      <td>...</td>\n",
              "      <td>0.80</td>\n",
              "      <td>0.000000e+00</td>\n",
              "      <td>0.62</td>\n",
              "      <td>0.60</td>\n",
              "      <td>0.84</td>\n",
              "      <td>0.28</td>\n",
              "      <td>0.03</td>\n",
              "      <td>0.57</td>\n",
              "      <td>1.0</td>\n",
              "      <td>0.02</td>\n",
              "    </tr>\n",
              "    <tr>\n",
              "      <th>50%</th>\n",
              "      <td>0.00</td>\n",
              "      <td>0.50</td>\n",
              "      <td>0.56</td>\n",
              "      <td>0.55</td>\n",
              "      <td>0.61</td>\n",
              "      <td>0.61</td>\n",
              "      <td>1.00</td>\n",
              "      <td>0.80</td>\n",
              "      <td>0.81</td>\n",
              "      <td>0.30</td>\n",
              "      <td>...</td>\n",
              "      <td>0.81</td>\n",
              "      <td>0.000000e+00</td>\n",
              "      <td>0.62</td>\n",
              "      <td>0.61</td>\n",
              "      <td>0.84</td>\n",
              "      <td>0.28</td>\n",
              "      <td>0.03</td>\n",
              "      <td>0.57</td>\n",
              "      <td>1.0</td>\n",
              "      <td>0.03</td>\n",
              "    </tr>\n",
              "    <tr>\n",
              "      <th>75%</th>\n",
              "      <td>0.00</td>\n",
              "      <td>0.54</td>\n",
              "      <td>0.59</td>\n",
              "      <td>0.58</td>\n",
              "      <td>0.61</td>\n",
              "      <td>0.61</td>\n",
              "      <td>1.00</td>\n",
              "      <td>0.80</td>\n",
              "      <td>0.81</td>\n",
              "      <td>0.30</td>\n",
              "      <td>...</td>\n",
              "      <td>0.83</td>\n",
              "      <td>1.000000e-02</td>\n",
              "      <td>0.62</td>\n",
              "      <td>0.61</td>\n",
              "      <td>0.84</td>\n",
              "      <td>0.28</td>\n",
              "      <td>0.03</td>\n",
              "      <td>0.57</td>\n",
              "      <td>1.0</td>\n",
              "      <td>0.05</td>\n",
              "    </tr>\n",
              "    <tr>\n",
              "      <th>max</th>\n",
              "      <td>1.00</td>\n",
              "      <td>1.00</td>\n",
              "      <td>1.00</td>\n",
              "      <td>1.00</td>\n",
              "      <td>1.00</td>\n",
              "      <td>1.00</td>\n",
              "      <td>1.00</td>\n",
              "      <td>1.00</td>\n",
              "      <td>1.00</td>\n",
              "      <td>1.00</td>\n",
              "      <td>...</td>\n",
              "      <td>1.00</td>\n",
              "      <td>9.820000e+09</td>\n",
              "      <td>1.00</td>\n",
              "      <td>1.00</td>\n",
              "      <td>1.00</td>\n",
              "      <td>1.00</td>\n",
              "      <td>1.00</td>\n",
              "      <td>1.00</td>\n",
              "      <td>1.0</td>\n",
              "      <td>1.00</td>\n",
              "    </tr>\n",
              "  </tbody>\n",
              "</table>\n",
              "<p>8 rows × 96 columns</p>\n",
              "</div>\n",
              "    <div class=\"colab-df-buttons\">\n",
              "\n",
              "  <div class=\"colab-df-container\">\n",
              "    <button class=\"colab-df-convert\" onclick=\"convertToInteractive('df-fc53b0c1-6786-49ab-9b8e-48420c501912')\"\n",
              "            title=\"Convert this dataframe to an interactive table.\"\n",
              "            style=\"display:none;\">\n",
              "\n",
              "  <svg xmlns=\"http://www.w3.org/2000/svg\" height=\"24px\" viewBox=\"0 -960 960 960\">\n",
              "    <path d=\"M120-120v-720h720v720H120Zm60-500h600v-160H180v160Zm220 220h160v-160H400v160Zm0 220h160v-160H400v160ZM180-400h160v-160H180v160Zm440 0h160v-160H620v160ZM180-180h160v-160H180v160Zm440 0h160v-160H620v160Z\"/>\n",
              "  </svg>\n",
              "    </button>\n",
              "\n",
              "  <style>\n",
              "    .colab-df-container {\n",
              "      display:flex;\n",
              "      gap: 12px;\n",
              "    }\n",
              "\n",
              "    .colab-df-convert {\n",
              "      background-color: #E8F0FE;\n",
              "      border: none;\n",
              "      border-radius: 50%;\n",
              "      cursor: pointer;\n",
              "      display: none;\n",
              "      fill: #1967D2;\n",
              "      height: 32px;\n",
              "      padding: 0 0 0 0;\n",
              "      width: 32px;\n",
              "    }\n",
              "\n",
              "    .colab-df-convert:hover {\n",
              "      background-color: #E2EBFA;\n",
              "      box-shadow: 0px 1px 2px rgba(60, 64, 67, 0.3), 0px 1px 3px 1px rgba(60, 64, 67, 0.15);\n",
              "      fill: #174EA6;\n",
              "    }\n",
              "\n",
              "    .colab-df-buttons div {\n",
              "      margin-bottom: 4px;\n",
              "    }\n",
              "\n",
              "    [theme=dark] .colab-df-convert {\n",
              "      background-color: #3B4455;\n",
              "      fill: #D2E3FC;\n",
              "    }\n",
              "\n",
              "    [theme=dark] .colab-df-convert:hover {\n",
              "      background-color: #434B5C;\n",
              "      box-shadow: 0px 1px 3px 1px rgba(0, 0, 0, 0.15);\n",
              "      filter: drop-shadow(0px 1px 2px rgba(0, 0, 0, 0.3));\n",
              "      fill: #FFFFFF;\n",
              "    }\n",
              "  </style>\n",
              "\n",
              "    <script>\n",
              "      const buttonEl =\n",
              "        document.querySelector('#df-fc53b0c1-6786-49ab-9b8e-48420c501912 button.colab-df-convert');\n",
              "      buttonEl.style.display =\n",
              "        google.colab.kernel.accessAllowed ? 'block' : 'none';\n",
              "\n",
              "      async function convertToInteractive(key) {\n",
              "        const element = document.querySelector('#df-fc53b0c1-6786-49ab-9b8e-48420c501912');\n",
              "        const dataTable =\n",
              "          await google.colab.kernel.invokeFunction('convertToInteractive',\n",
              "                                                    [key], {});\n",
              "        if (!dataTable) return;\n",
              "\n",
              "        const docLinkHtml = 'Like what you see? Visit the ' +\n",
              "          '<a target=\"_blank\" href=https://colab.research.google.com/notebooks/data_table.ipynb>data table notebook</a>'\n",
              "          + ' to learn more about interactive tables.';\n",
              "        element.innerHTML = '';\n",
              "        dataTable['output_type'] = 'display_data';\n",
              "        await google.colab.output.renderOutput(dataTable, element);\n",
              "        const docLink = document.createElement('div');\n",
              "        docLink.innerHTML = docLinkHtml;\n",
              "        element.appendChild(docLink);\n",
              "      }\n",
              "    </script>\n",
              "  </div>\n",
              "\n",
              "\n",
              "<div id=\"df-bf89da6f-1b87-4461-bd58-150f0947b466\">\n",
              "  <button class=\"colab-df-quickchart\" onclick=\"quickchart('df-bf89da6f-1b87-4461-bd58-150f0947b466')\"\n",
              "            title=\"Suggest charts\"\n",
              "            style=\"display:none;\">\n",
              "\n",
              "<svg xmlns=\"http://www.w3.org/2000/svg\" height=\"24px\"viewBox=\"0 0 24 24\"\n",
              "     width=\"24px\">\n",
              "    <g>\n",
              "        <path d=\"M19 3H5c-1.1 0-2 .9-2 2v14c0 1.1.9 2 2 2h14c1.1 0 2-.9 2-2V5c0-1.1-.9-2-2-2zM9 17H7v-7h2v7zm4 0h-2V7h2v10zm4 0h-2v-4h2v4z\"/>\n",
              "    </g>\n",
              "</svg>\n",
              "  </button>\n",
              "\n",
              "<style>\n",
              "  .colab-df-quickchart {\n",
              "      --bg-color: #E8F0FE;\n",
              "      --fill-color: #1967D2;\n",
              "      --hover-bg-color: #E2EBFA;\n",
              "      --hover-fill-color: #174EA6;\n",
              "      --disabled-fill-color: #AAA;\n",
              "      --disabled-bg-color: #DDD;\n",
              "  }\n",
              "\n",
              "  [theme=dark] .colab-df-quickchart {\n",
              "      --bg-color: #3B4455;\n",
              "      --fill-color: #D2E3FC;\n",
              "      --hover-bg-color: #434B5C;\n",
              "      --hover-fill-color: #FFFFFF;\n",
              "      --disabled-bg-color: #3B4455;\n",
              "      --disabled-fill-color: #666;\n",
              "  }\n",
              "\n",
              "  .colab-df-quickchart {\n",
              "    background-color: var(--bg-color);\n",
              "    border: none;\n",
              "    border-radius: 50%;\n",
              "    cursor: pointer;\n",
              "    display: none;\n",
              "    fill: var(--fill-color);\n",
              "    height: 32px;\n",
              "    padding: 0;\n",
              "    width: 32px;\n",
              "  }\n",
              "\n",
              "  .colab-df-quickchart:hover {\n",
              "    background-color: var(--hover-bg-color);\n",
              "    box-shadow: 0 1px 2px rgba(60, 64, 67, 0.3), 0 1px 3px 1px rgba(60, 64, 67, 0.15);\n",
              "    fill: var(--button-hover-fill-color);\n",
              "  }\n",
              "\n",
              "  .colab-df-quickchart-complete:disabled,\n",
              "  .colab-df-quickchart-complete:disabled:hover {\n",
              "    background-color: var(--disabled-bg-color);\n",
              "    fill: var(--disabled-fill-color);\n",
              "    box-shadow: none;\n",
              "  }\n",
              "\n",
              "  .colab-df-spinner {\n",
              "    border: 2px solid var(--fill-color);\n",
              "    border-color: transparent;\n",
              "    border-bottom-color: var(--fill-color);\n",
              "    animation:\n",
              "      spin 1s steps(1) infinite;\n",
              "  }\n",
              "\n",
              "  @keyframes spin {\n",
              "    0% {\n",
              "      border-color: transparent;\n",
              "      border-bottom-color: var(--fill-color);\n",
              "      border-left-color: var(--fill-color);\n",
              "    }\n",
              "    20% {\n",
              "      border-color: transparent;\n",
              "      border-left-color: var(--fill-color);\n",
              "      border-top-color: var(--fill-color);\n",
              "    }\n",
              "    30% {\n",
              "      border-color: transparent;\n",
              "      border-left-color: var(--fill-color);\n",
              "      border-top-color: var(--fill-color);\n",
              "      border-right-color: var(--fill-color);\n",
              "    }\n",
              "    40% {\n",
              "      border-color: transparent;\n",
              "      border-right-color: var(--fill-color);\n",
              "      border-top-color: var(--fill-color);\n",
              "    }\n",
              "    60% {\n",
              "      border-color: transparent;\n",
              "      border-right-color: var(--fill-color);\n",
              "    }\n",
              "    80% {\n",
              "      border-color: transparent;\n",
              "      border-right-color: var(--fill-color);\n",
              "      border-bottom-color: var(--fill-color);\n",
              "    }\n",
              "    90% {\n",
              "      border-color: transparent;\n",
              "      border-bottom-color: var(--fill-color);\n",
              "    }\n",
              "  }\n",
              "</style>\n",
              "\n",
              "  <script>\n",
              "    async function quickchart(key) {\n",
              "      const quickchartButtonEl =\n",
              "        document.querySelector('#' + key + ' button');\n",
              "      quickchartButtonEl.disabled = true;  // To prevent multiple clicks.\n",
              "      quickchartButtonEl.classList.add('colab-df-spinner');\n",
              "      try {\n",
              "        const charts = await google.colab.kernel.invokeFunction(\n",
              "            'suggestCharts', [key], {});\n",
              "      } catch (error) {\n",
              "        console.error('Error during call to suggestCharts:', error);\n",
              "      }\n",
              "      quickchartButtonEl.classList.remove('colab-df-spinner');\n",
              "      quickchartButtonEl.classList.add('colab-df-quickchart-complete');\n",
              "    }\n",
              "    (() => {\n",
              "      let quickchartButtonEl =\n",
              "        document.querySelector('#df-bf89da6f-1b87-4461-bd58-150f0947b466 button');\n",
              "      quickchartButtonEl.style.display =\n",
              "        google.colab.kernel.accessAllowed ? 'block' : 'none';\n",
              "    })();\n",
              "  </script>\n",
              "</div>\n",
              "\n",
              "    </div>\n",
              "  </div>\n"
            ],
            "text/plain": [
              "       Bankrupt?  ROA(C) before interest and depreciation before interest  \\\n",
              "count    6819.00                                            6819.00         \n",
              "mean        0.03                                               0.51         \n",
              "std         0.18                                               0.06         \n",
              "min         0.00                                               0.00         \n",
              "25%         0.00                                               0.48         \n",
              "50%         0.00                                               0.50         \n",
              "75%         0.00                                               0.54         \n",
              "max         1.00                                               1.00         \n",
              "\n",
              "       ROA(A) before interest and % after tax  \\\n",
              "count                                 6819.00   \n",
              "mean                                     0.56   \n",
              "std                                      0.07   \n",
              "min                                      0.00   \n",
              "25%                                      0.54   \n",
              "50%                                      0.56   \n",
              "75%                                      0.59   \n",
              "max                                      1.00   \n",
              "\n",
              "       ROA(B) before interest and depreciation after tax  \\\n",
              "count                                            6819.00   \n",
              "mean                                                0.55   \n",
              "std                                                 0.06   \n",
              "min                                                 0.00   \n",
              "25%                                                 0.53   \n",
              "50%                                                 0.55   \n",
              "75%                                                 0.58   \n",
              "max                                                 1.00   \n",
              "\n",
              "       Operating Gross Margin  Realized Sales Gross Margin  \\\n",
              "count                 6819.00                      6819.00   \n",
              "mean                     0.61                         0.61   \n",
              "std                      0.02                         0.02   \n",
              "min                      0.00                         0.00   \n",
              "25%                      0.60                         0.60   \n",
              "50%                      0.61                         0.61   \n",
              "75%                      0.61                         0.61   \n",
              "max                      1.00                         1.00   \n",
              "\n",
              "       Operating Profit Rate  Pre-tax net Interest Rate  \\\n",
              "count                6819.00                    6819.00   \n",
              "mean                    1.00                       0.80   \n",
              "std                     0.01                       0.01   \n",
              "min                     0.00                       0.00   \n",
              "25%                     1.00                       0.80   \n",
              "50%                     1.00                       0.80   \n",
              "75%                     1.00                       0.80   \n",
              "max                     1.00                       1.00   \n",
              "\n",
              "       After-tax net Interest Rate  \\\n",
              "count                      6819.00   \n",
              "mean                          0.81   \n",
              "std                           0.01   \n",
              "min                           0.00   \n",
              "25%                           0.81   \n",
              "50%                           0.81   \n",
              "75%                           0.81   \n",
              "max                           1.00   \n",
              "\n",
              "       Non-industry income and expenditure/revenue  ...  \\\n",
              "count                                      6819.00  ...   \n",
              "mean                                          0.30  ...   \n",
              "std                                           0.01  ...   \n",
              "min                                           0.00  ...   \n",
              "25%                                           0.30  ...   \n",
              "50%                                           0.30  ...   \n",
              "75%                                           0.30  ...   \n",
              "max                                           1.00  ...   \n",
              "\n",
              "       Net Income to Total Assets  Total assets to GNP price  \\\n",
              "count                     6819.00               6.819000e+03   \n",
              "mean                         0.81               1.862942e+07   \n",
              "std                          0.04               3.764501e+08   \n",
              "min                          0.00               0.000000e+00   \n",
              "25%                          0.80               0.000000e+00   \n",
              "50%                          0.81               0.000000e+00   \n",
              "75%                          0.83               1.000000e-02   \n",
              "max                          1.00               9.820000e+09   \n",
              "\n",
              "       No-credit Interval  Gross Profit to Sales  \\\n",
              "count             6819.00                6819.00   \n",
              "mean                 0.62                   0.61   \n",
              "std                  0.01                   0.02   \n",
              "min                  0.00                   0.00   \n",
              "25%                  0.62                   0.60   \n",
              "50%                  0.62                   0.61   \n",
              "75%                  0.62                   0.61   \n",
              "max                  1.00                   1.00   \n",
              "\n",
              "       Net Income to Stockholder's Equity  Liability to Equity  \\\n",
              "count                             6819.00              6819.00   \n",
              "mean                                 0.84                 0.28   \n",
              "std                                  0.01                 0.01   \n",
              "min                                  0.00                 0.00   \n",
              "25%                                  0.84                 0.28   \n",
              "50%                                  0.84                 0.28   \n",
              "75%                                  0.84                 0.28   \n",
              "max                                  1.00                 1.00   \n",
              "\n",
              "       Degree of Financial Leverage (DFL)  \\\n",
              "count                             6819.00   \n",
              "mean                                 0.03   \n",
              "std                                  0.02   \n",
              "min                                  0.00   \n",
              "25%                                  0.03   \n",
              "50%                                  0.03   \n",
              "75%                                  0.03   \n",
              "max                                  1.00   \n",
              "\n",
              "       Interest Coverage Ratio (Interest expense to EBIT)  Net Income Flag  \\\n",
              "count                                            6819.00            6819.0   \n",
              "mean                                                0.57               1.0   \n",
              "std                                                 0.01               0.0   \n",
              "min                                                 0.00               1.0   \n",
              "25%                                                 0.57               1.0   \n",
              "50%                                                 0.57               1.0   \n",
              "75%                                                 0.57               1.0   \n",
              "max                                                 1.00               1.0   \n",
              "\n",
              "       Equity to Liability  \n",
              "count              6819.00  \n",
              "mean                  0.05  \n",
              "std                   0.05  \n",
              "min                   0.00  \n",
              "25%                   0.02  \n",
              "50%                   0.03  \n",
              "75%                   0.05  \n",
              "max                   1.00  \n",
              "\n",
              "[8 rows x 96 columns]"
            ]
          },
          "execution_count": 16,
          "metadata": {},
          "output_type": "execute_result"
        }
      ],
      "source": [
        "# view summary statistics in numerical variables\n",
        "\n",
        "round(df.describe(),2)"
      ]
    },
    {
      "cell_type": "code",
      "execution_count": null,
      "metadata": {
        "colab": {
          "base_uri": "https://localhost:8080/",
          "height": 1000
        },
        "id": "K07SEV7dOikp",
        "outputId": "61fd8744-c2e3-4011-b100-9185fcb3b86f"
      },
      "outputs": [],
      "source": [
        "# draw boxplots to visualize outliers\n",
        "\n",
        "# Number of columns in the DataFrame\n",
        "num_columns = len(df.columns)\n",
        "\n",
        "# Number of rows and columns for subplots, assuming you want 2 columns per row\n",
        "num_rows = (num_columns + 1) // 2  # ceiling division\n",
        "\n",
        "# Create a figure with a grid of subplots\n",
        "plt.figure(figsize=(24, num_rows * 5))  # adjust height based on the number of rows\n",
        "\n",
        "# Loop over the columns and create a subplot for each boxplot\n",
        "for i, column in enumerate(df.columns):\n",
        "    plt.subplot(num_rows, 2, i + 1)\n",
        "    fig = df.boxplot(column=column)\n",
        "    fig.set_title(column)\n",
        "    fig.set_ylabel(column)\n",
        "\n",
        "plt.tight_layout()  # adjust layout to prevent overlap\n",
        "plt.show()"
      ]
    },
    {
      "cell_type": "code",
      "execution_count": null,
      "metadata": {
        "colab": {
          "base_uri": "https://localhost:8080/",
          "height": 1000
        },
        "id": "UHoOBqq3Rsob",
        "outputId": "5ee95b0f-68bf-4f8a-9236-968cead89365"
      },
      "outputs": [],
      "source": [
        "# plotting histogram to check distribution , this will give us an idea on the skewness of each feature\n",
        "\n",
        "\n",
        "# Create a figure with a grid of subplots\n",
        "plt.figure(figsize=(24, num_rows * 5))  # adjust height based on the number of rows\n",
        "\n",
        "# Loop over the columns and create a subplot for each histogram\n",
        "for i, column in enumerate(df.columns):\n",
        "    plt.subplot(num_rows, 2, i + 1)\n",
        "    fig = df[column].hist(bins=20)\n",
        "    fig.set_xlabel(column)\n",
        "    fig.set_ylabel('Frequency')\n",
        "    fig.set_title(column)\n",
        "\n",
        "plt.tight_layout()  # adjust layout to prevent overlap\n",
        "plt.show()"
      ]
    },
    {
      "cell_type": "code",
      "execution_count": null,
      "metadata": {
        "colab": {
          "base_uri": "https://localhost:8080/",
          "height": 1000
        },
        "id": "LkcdNXsiAuKk",
        "outputId": "95f52041-4e4a-409b-8b5b-52e0ca4675cc"
      },
      "outputs": [],
      "source": [
        "# Calculate the Pearson correlation matrix\n",
        "correlation_matrix = df.corr()\n",
        "\n",
        "# Create a heatmap to visualize the Pearson correlation matrix\n",
        "plt.figure(figsize=(35, 35))\n",
        "sns.heatmap(correlation_matrix, annot=True, cmap='coolwarm', fmt='.2f', linewidths=0.5)\n",
        "plt.title('Pearson Correlation Matrix')\n",
        "plt.show()"
      ]
    },
    {
      "cell_type": "code",
      "execution_count": null,
      "metadata": {
        "id": "-9oFr4MqkwXc"
      },
      "outputs": [],
      "source": []
    },
    {
      "cell_type": "code",
      "execution_count": null,
      "metadata": {
        "id": "ALOQB0SHRslT"
      },
      "outputs": [],
      "source": [
        "#Declare feature vector and target variable\n",
        "X = df.drop(['Bankrupt?'], axis=1)\n",
        "\n",
        "y = df['Bankrupt?']"
      ]
    },
    {
      "cell_type": "code",
      "execution_count": null,
      "metadata": {
        "id": "JKXCCL0IRsh8"
      },
      "outputs": [],
      "source": [
        "# split X and y into training and testing sets\n",
        "\n",
        "from sklearn.model_selection import train_test_split\n",
        "\n",
        "X_train, X_test, y_train, y_test = train_test_split(X, y, test_size = 0.2, random_state = 0)\n",
        "\n"
      ]
    },
    {
      "cell_type": "code",
      "execution_count": null,
      "metadata": {
        "colab": {
          "base_uri": "https://localhost:8080/"
        },
        "id": "-T8s7RtASMkr",
        "outputId": "da9893bb-944a-45e2-c89c-f96cd0be5dc4"
      },
      "outputs": [
        {
          "data": {
            "text/plain": [
              "((5455, 95), (1364, 95))"
            ]
          },
          "execution_count": 22,
          "metadata": {},
          "output_type": "execute_result"
        }
      ],
      "source": [
        "# check the shape of X_train and X_test\n",
        "\n",
        "X_train.shape, X_test.shape"
      ]
    },
    {
      "cell_type": "code",
      "execution_count": null,
      "metadata": {
        "id": "164gTaz_SMhy"
      },
      "outputs": [],
      "source": [
        "#Feature Scaling"
      ]
    },
    {
      "cell_type": "code",
      "execution_count": null,
      "metadata": {
        "id": "htVYdZoUSMe7"
      },
      "outputs": [],
      "source": [
        "cols = X_train.columns"
      ]
    },
    {
      "cell_type": "code",
      "execution_count": null,
      "metadata": {
        "id": "PYPLHmQ3SMcC"
      },
      "outputs": [],
      "source": [
        "from sklearn.preprocessing import StandardScaler\n",
        "\n",
        "scaler = StandardScaler()\n",
        "\n",
        "X_train_scaled = scaler.fit_transform(X_train)\n",
        "\n",
        "X_test_scaled = scaler.transform(X_test)"
      ]
    },
    {
      "cell_type": "code",
      "execution_count": null,
      "metadata": {
        "id": "wbfQjXGvSZNj"
      },
      "outputs": [],
      "source": [
        "X_train_scaled = pd.DataFrame(X_train_scaled, columns=[cols])"
      ]
    },
    {
      "cell_type": "code",
      "execution_count": null,
      "metadata": {
        "id": "HA-S7I8ySZK7"
      },
      "outputs": [],
      "source": [
        "X_test_scaled = pd.DataFrame(X_test_scaled, columns=[cols])"
      ]
    },
    {
      "cell_type": "code",
      "execution_count": null,
      "metadata": {
        "colab": {
          "base_uri": "https://localhost:8080/",
          "height": 436
        },
        "id": "4e2YhRFdSZIO",
        "outputId": "61f2f214-7cb6-4e45-e6e5-2af616a1eec7"
      },
      "outputs": [
        {
          "data": {
            "application/vnd.google.colaboratory.intrinsic+json": {
              "type": "dataframe"
            },
            "text/html": [
              "\n",
              "  <div id=\"df-2dca399d-da80-4165-bb34-e4ecff525feb\" class=\"colab-df-container\">\n",
              "    <div>\n",
              "<style scoped>\n",
              "    .dataframe tbody tr th:only-of-type {\n",
              "        vertical-align: middle;\n",
              "    }\n",
              "\n",
              "    .dataframe tbody tr th {\n",
              "        vertical-align: top;\n",
              "    }\n",
              "\n",
              "    .dataframe thead tr th {\n",
              "        text-align: left;\n",
              "    }\n",
              "</style>\n",
              "<table border=\"1\" class=\"dataframe\">\n",
              "  <thead>\n",
              "    <tr>\n",
              "      <th></th>\n",
              "      <th>ROA(C) before interest and depreciation before interest</th>\n",
              "      <th>ROA(A) before interest and % after tax</th>\n",
              "      <th>ROA(B) before interest and depreciation after tax</th>\n",
              "      <th>Operating Gross Margin</th>\n",
              "      <th>Realized Sales Gross Margin</th>\n",
              "      <th>Operating Profit Rate</th>\n",
              "      <th>Pre-tax net Interest Rate</th>\n",
              "      <th>After-tax net Interest Rate</th>\n",
              "      <th>Non-industry income and expenditure/revenue</th>\n",
              "      <th>Continuous interest rate (after tax)</th>\n",
              "      <th>...</th>\n",
              "      <th>Net Income to Total Assets</th>\n",
              "      <th>Total assets to GNP price</th>\n",
              "      <th>No-credit Interval</th>\n",
              "      <th>Gross Profit to Sales</th>\n",
              "      <th>Net Income to Stockholder's Equity</th>\n",
              "      <th>Liability to Equity</th>\n",
              "      <th>Degree of Financial Leverage (DFL)</th>\n",
              "      <th>Interest Coverage Ratio (Interest expense to EBIT)</th>\n",
              "      <th>Net Income Flag</th>\n",
              "      <th>Equity to Liability</th>\n",
              "    </tr>\n",
              "  </thead>\n",
              "  <tbody>\n",
              "    <tr>\n",
              "      <th>count</th>\n",
              "      <td>5.455000e+03</td>\n",
              "      <td>5.455000e+03</td>\n",
              "      <td>5.455000e+03</td>\n",
              "      <td>5.455000e+03</td>\n",
              "      <td>5.455000e+03</td>\n",
              "      <td>5.455000e+03</td>\n",
              "      <td>5.455000e+03</td>\n",
              "      <td>5.455000e+03</td>\n",
              "      <td>5.455000e+03</td>\n",
              "      <td>5.455000e+03</td>\n",
              "      <td>...</td>\n",
              "      <td>5.455000e+03</td>\n",
              "      <td>5455.000000</td>\n",
              "      <td>5.455000e+03</td>\n",
              "      <td>5.455000e+03</td>\n",
              "      <td>5.455000e+03</td>\n",
              "      <td>5.455000e+03</td>\n",
              "      <td>5.455000e+03</td>\n",
              "      <td>5.455000e+03</td>\n",
              "      <td>5455.0</td>\n",
              "      <td>5.455000e+03</td>\n",
              "    </tr>\n",
              "    <tr>\n",
              "      <th>mean</th>\n",
              "      <td>9.638893e-16</td>\n",
              "      <td>-1.458860e-16</td>\n",
              "      <td>-3.529919e-16</td>\n",
              "      <td>1.685504e-15</td>\n",
              "      <td>9.853814e-16</td>\n",
              "      <td>7.527455e-15</td>\n",
              "      <td>6.742015e-15</td>\n",
              "      <td>-8.032845e-15</td>\n",
              "      <td>-1.636007e-15</td>\n",
              "      <td>1.471885e-16</td>\n",
              "      <td>...</td>\n",
              "      <td>7.124966e-16</td>\n",
              "      <td>0.000000</td>\n",
              "      <td>3.068490e-15</td>\n",
              "      <td>2.194802e-15</td>\n",
              "      <td>8.151378e-15</td>\n",
              "      <td>1.052463e-15</td>\n",
              "      <td>1.563064e-17</td>\n",
              "      <td>-1.982486e-15</td>\n",
              "      <td>0.0</td>\n",
              "      <td>-1.237425e-16</td>\n",
              "    </tr>\n",
              "    <tr>\n",
              "      <th>std</th>\n",
              "      <td>1.000092e+00</td>\n",
              "      <td>1.000092e+00</td>\n",
              "      <td>1.000092e+00</td>\n",
              "      <td>1.000092e+00</td>\n",
              "      <td>1.000092e+00</td>\n",
              "      <td>1.000092e+00</td>\n",
              "      <td>1.000092e+00</td>\n",
              "      <td>1.000092e+00</td>\n",
              "      <td>1.000092e+00</td>\n",
              "      <td>1.000092e+00</td>\n",
              "      <td>...</td>\n",
              "      <td>1.000092e+00</td>\n",
              "      <td>1.000092</td>\n",
              "      <td>1.000092e+00</td>\n",
              "      <td>1.000092e+00</td>\n",
              "      <td>1.000092e+00</td>\n",
              "      <td>1.000092e+00</td>\n",
              "      <td>1.000092e+00</td>\n",
              "      <td>1.000092e+00</td>\n",
              "      <td>0.0</td>\n",
              "      <td>1.000092e+00</td>\n",
              "    </tr>\n",
              "    <tr>\n",
              "      <th>min</th>\n",
              "      <td>-8.065445e+00</td>\n",
              "      <td>-8.656815e+00</td>\n",
              "      <td>-8.617812e+00</td>\n",
              "      <td>-3.400558e+01</td>\n",
              "      <td>-3.402697e+01</td>\n",
              "      <td>-6.867168e+01</td>\n",
              "      <td>-5.544260e+01</td>\n",
              "      <td>-5.327392e+01</td>\n",
              "      <td>-2.437642e+01</td>\n",
              "      <td>-5.515853e+01</td>\n",
              "      <td>...</td>\n",
              "      <td>-2.046218e+01</td>\n",
              "      <td>-0.052316</td>\n",
              "      <td>-4.681236e+01</td>\n",
              "      <td>-3.400552e+01</td>\n",
              "      <td>-5.863025e+01</td>\n",
              "      <td>-7.219406e+00</td>\n",
              "      <td>-1.523700e+00</td>\n",
              "      <td>-4.855591e+01</td>\n",
              "      <td>0.0</td>\n",
              "      <td>-9.445645e-01</td>\n",
              "    </tr>\n",
              "    <tr>\n",
              "      <th>25%</th>\n",
              "      <td>-4.843902e-01</td>\n",
              "      <td>-3.560391e-01</td>\n",
              "      <td>-4.367774e-01</td>\n",
              "      <td>-4.158285e-01</td>\n",
              "      <td>-4.149955e-01</td>\n",
              "      <td>1.892862e-02</td>\n",
              "      <td>1.803552e-02</td>\n",
              "      <td>1.903477e-02</td>\n",
              "      <td>-1.404804e-02</td>\n",
              "      <td>1.713594e-02</td>\n",
              "      <td>...</td>\n",
              "      <td>-2.776820e-01</td>\n",
              "      <td>-0.052316</td>\n",
              "      <td>-2.110068e-02</td>\n",
              "      <td>-4.157114e-01</td>\n",
              "      <td>-2.136542e-02</td>\n",
              "      <td>-2.547576e-01</td>\n",
              "      <td>-4.503271e-02</td>\n",
              "      <td>-1.844023e-02</td>\n",
              "      <td>0.0</td>\n",
              "      <td>-4.598337e-01</td>\n",
              "    </tr>\n",
              "    <tr>\n",
              "      <th>50%</th>\n",
              "      <td>-3.512435e-02</td>\n",
              "      <td>2.313264e-02</td>\n",
              "      <td>-1.596241e-02</td>\n",
              "      <td>-1.059715e-01</td>\n",
              "      <td>-1.063475e-01</td>\n",
              "      <td>2.253575e-02</td>\n",
              "      <td>2.336611e-02</td>\n",
              "      <td>2.321862e-02</td>\n",
              "      <td>-9.274736e-03</td>\n",
              "      <td>2.192163e-02</td>\n",
              "      <td>...</td>\n",
              "      <td>7.276329e-02</td>\n",
              "      <td>-0.052316</td>\n",
              "      <td>-3.200639e-03</td>\n",
              "      <td>-1.060183e-01</td>\n",
              "      <td>5.355599e-02</td>\n",
              "      <td>-1.176335e-01</td>\n",
              "      <td>-4.398507e-02</td>\n",
              "      <td>-1.040661e-02</td>\n",
              "      <td>0.0</td>\n",
              "      <td>-2.744973e-01</td>\n",
              "    </tr>\n",
              "    <tr>\n",
              "      <th>75%</th>\n",
              "      <td>5.123418e-01</td>\n",
              "      <td>4.741653e-01</td>\n",
              "      <td>5.065052e-01</td>\n",
              "      <td>3.355295e-01</td>\n",
              "      <td>3.301978e-01</td>\n",
              "      <td>2.756109e-02</td>\n",
              "      <td>3.140530e-02</td>\n",
              "      <td>2.934865e-02</td>\n",
              "      <td>-4.423816e-03</td>\n",
              "      <td>2.887229e-02</td>\n",
              "      <td>...</td>\n",
              "      <td>4.717794e-01</td>\n",
              "      <td>-0.052316</td>\n",
              "      <td>1.849697e-02</td>\n",
              "      <td>3.356210e-01</td>\n",
              "      <td>1.356253e-01</td>\n",
              "      <td>8.511341e-02</td>\n",
              "      <td>-3.762261e-02</td>\n",
              "      <td>3.003574e-02</td>\n",
              "      <td>0.0</td>\n",
              "      <td>1.006669e-01</td>\n",
              "    </tr>\n",
              "    <tr>\n",
              "      <th>max</th>\n",
              "      <td>8.313529e+00</td>\n",
              "      <td>6.614888e+00</td>\n",
              "      <td>6.709088e+00</td>\n",
              "      <td>2.194125e+01</td>\n",
              "      <td>2.195654e+01</td>\n",
              "      <td>8.984751e-02</td>\n",
              "      <td>1.411051e+01</td>\n",
              "      <td>1.257587e+01</td>\n",
              "      <td>5.590397e+01</td>\n",
              "      <td>1.543775e+01</td>\n",
              "      <td>...</td>\n",
              "      <td>4.874985e+00</td>\n",
              "      <td>23.820943</td>\n",
              "      <td>2.821695e+01</td>\n",
              "      <td>2.194137e+01</td>\n",
              "      <td>1.113383e+01</td>\n",
              "      <td>5.320648e+01</td>\n",
              "      <td>5.904909e+01</td>\n",
              "      <td>1.473853e+01</td>\n",
              "      <td>0.0</td>\n",
              "      <td>1.906536e+01</td>\n",
              "    </tr>\n",
              "  </tbody>\n",
              "</table>\n",
              "<p>8 rows × 95 columns</p>\n",
              "</div>\n",
              "    <div class=\"colab-df-buttons\">\n",
              "\n",
              "  <div class=\"colab-df-container\">\n",
              "    <button class=\"colab-df-convert\" onclick=\"convertToInteractive('df-2dca399d-da80-4165-bb34-e4ecff525feb')\"\n",
              "            title=\"Convert this dataframe to an interactive table.\"\n",
              "            style=\"display:none;\">\n",
              "\n",
              "  <svg xmlns=\"http://www.w3.org/2000/svg\" height=\"24px\" viewBox=\"0 -960 960 960\">\n",
              "    <path d=\"M120-120v-720h720v720H120Zm60-500h600v-160H180v160Zm220 220h160v-160H400v160Zm0 220h160v-160H400v160ZM180-400h160v-160H180v160Zm440 0h160v-160H620v160ZM180-180h160v-160H180v160Zm440 0h160v-160H620v160Z\"/>\n",
              "  </svg>\n",
              "    </button>\n",
              "\n",
              "  <style>\n",
              "    .colab-df-container {\n",
              "      display:flex;\n",
              "      gap: 12px;\n",
              "    }\n",
              "\n",
              "    .colab-df-convert {\n",
              "      background-color: #E8F0FE;\n",
              "      border: none;\n",
              "      border-radius: 50%;\n",
              "      cursor: pointer;\n",
              "      display: none;\n",
              "      fill: #1967D2;\n",
              "      height: 32px;\n",
              "      padding: 0 0 0 0;\n",
              "      width: 32px;\n",
              "    }\n",
              "\n",
              "    .colab-df-convert:hover {\n",
              "      background-color: #E2EBFA;\n",
              "      box-shadow: 0px 1px 2px rgba(60, 64, 67, 0.3), 0px 1px 3px 1px rgba(60, 64, 67, 0.15);\n",
              "      fill: #174EA6;\n",
              "    }\n",
              "\n",
              "    .colab-df-buttons div {\n",
              "      margin-bottom: 4px;\n",
              "    }\n",
              "\n",
              "    [theme=dark] .colab-df-convert {\n",
              "      background-color: #3B4455;\n",
              "      fill: #D2E3FC;\n",
              "    }\n",
              "\n",
              "    [theme=dark] .colab-df-convert:hover {\n",
              "      background-color: #434B5C;\n",
              "      box-shadow: 0px 1px 3px 1px rgba(0, 0, 0, 0.15);\n",
              "      filter: drop-shadow(0px 1px 2px rgba(0, 0, 0, 0.3));\n",
              "      fill: #FFFFFF;\n",
              "    }\n",
              "  </style>\n",
              "\n",
              "    <script>\n",
              "      const buttonEl =\n",
              "        document.querySelector('#df-2dca399d-da80-4165-bb34-e4ecff525feb button.colab-df-convert');\n",
              "      buttonEl.style.display =\n",
              "        google.colab.kernel.accessAllowed ? 'block' : 'none';\n",
              "\n",
              "      async function convertToInteractive(key) {\n",
              "        const element = document.querySelector('#df-2dca399d-da80-4165-bb34-e4ecff525feb');\n",
              "        const dataTable =\n",
              "          await google.colab.kernel.invokeFunction('convertToInteractive',\n",
              "                                                    [key], {});\n",
              "        if (!dataTable) return;\n",
              "\n",
              "        const docLinkHtml = 'Like what you see? Visit the ' +\n",
              "          '<a target=\"_blank\" href=https://colab.research.google.com/notebooks/data_table.ipynb>data table notebook</a>'\n",
              "          + ' to learn more about interactive tables.';\n",
              "        element.innerHTML = '';\n",
              "        dataTable['output_type'] = 'display_data';\n",
              "        await google.colab.output.renderOutput(dataTable, element);\n",
              "        const docLink = document.createElement('div');\n",
              "        docLink.innerHTML = docLinkHtml;\n",
              "        element.appendChild(docLink);\n",
              "      }\n",
              "    </script>\n",
              "  </div>\n",
              "\n",
              "\n",
              "<div id=\"df-6dad9323-e8a1-49f2-9e8d-2910dad74ca5\">\n",
              "  <button class=\"colab-df-quickchart\" onclick=\"quickchart('df-6dad9323-e8a1-49f2-9e8d-2910dad74ca5')\"\n",
              "            title=\"Suggest charts\"\n",
              "            style=\"display:none;\">\n",
              "\n",
              "<svg xmlns=\"http://www.w3.org/2000/svg\" height=\"24px\"viewBox=\"0 0 24 24\"\n",
              "     width=\"24px\">\n",
              "    <g>\n",
              "        <path d=\"M19 3H5c-1.1 0-2 .9-2 2v14c0 1.1.9 2 2 2h14c1.1 0 2-.9 2-2V5c0-1.1-.9-2-2-2zM9 17H7v-7h2v7zm4 0h-2V7h2v10zm4 0h-2v-4h2v4z\"/>\n",
              "    </g>\n",
              "</svg>\n",
              "  </button>\n",
              "\n",
              "<style>\n",
              "  .colab-df-quickchart {\n",
              "      --bg-color: #E8F0FE;\n",
              "      --fill-color: #1967D2;\n",
              "      --hover-bg-color: #E2EBFA;\n",
              "      --hover-fill-color: #174EA6;\n",
              "      --disabled-fill-color: #AAA;\n",
              "      --disabled-bg-color: #DDD;\n",
              "  }\n",
              "\n",
              "  [theme=dark] .colab-df-quickchart {\n",
              "      --bg-color: #3B4455;\n",
              "      --fill-color: #D2E3FC;\n",
              "      --hover-bg-color: #434B5C;\n",
              "      --hover-fill-color: #FFFFFF;\n",
              "      --disabled-bg-color: #3B4455;\n",
              "      --disabled-fill-color: #666;\n",
              "  }\n",
              "\n",
              "  .colab-df-quickchart {\n",
              "    background-color: var(--bg-color);\n",
              "    border: none;\n",
              "    border-radius: 50%;\n",
              "    cursor: pointer;\n",
              "    display: none;\n",
              "    fill: var(--fill-color);\n",
              "    height: 32px;\n",
              "    padding: 0;\n",
              "    width: 32px;\n",
              "  }\n",
              "\n",
              "  .colab-df-quickchart:hover {\n",
              "    background-color: var(--hover-bg-color);\n",
              "    box-shadow: 0 1px 2px rgba(60, 64, 67, 0.3), 0 1px 3px 1px rgba(60, 64, 67, 0.15);\n",
              "    fill: var(--button-hover-fill-color);\n",
              "  }\n",
              "\n",
              "  .colab-df-quickchart-complete:disabled,\n",
              "  .colab-df-quickchart-complete:disabled:hover {\n",
              "    background-color: var(--disabled-bg-color);\n",
              "    fill: var(--disabled-fill-color);\n",
              "    box-shadow: none;\n",
              "  }\n",
              "\n",
              "  .colab-df-spinner {\n",
              "    border: 2px solid var(--fill-color);\n",
              "    border-color: transparent;\n",
              "    border-bottom-color: var(--fill-color);\n",
              "    animation:\n",
              "      spin 1s steps(1) infinite;\n",
              "  }\n",
              "\n",
              "  @keyframes spin {\n",
              "    0% {\n",
              "      border-color: transparent;\n",
              "      border-bottom-color: var(--fill-color);\n",
              "      border-left-color: var(--fill-color);\n",
              "    }\n",
              "    20% {\n",
              "      border-color: transparent;\n",
              "      border-left-color: var(--fill-color);\n",
              "      border-top-color: var(--fill-color);\n",
              "    }\n",
              "    30% {\n",
              "      border-color: transparent;\n",
              "      border-left-color: var(--fill-color);\n",
              "      border-top-color: var(--fill-color);\n",
              "      border-right-color: var(--fill-color);\n",
              "    }\n",
              "    40% {\n",
              "      border-color: transparent;\n",
              "      border-right-color: var(--fill-color);\n",
              "      border-top-color: var(--fill-color);\n",
              "    }\n",
              "    60% {\n",
              "      border-color: transparent;\n",
              "      border-right-color: var(--fill-color);\n",
              "    }\n",
              "    80% {\n",
              "      border-color: transparent;\n",
              "      border-right-color: var(--fill-color);\n",
              "      border-bottom-color: var(--fill-color);\n",
              "    }\n",
              "    90% {\n",
              "      border-color: transparent;\n",
              "      border-bottom-color: var(--fill-color);\n",
              "    }\n",
              "  }\n",
              "</style>\n",
              "\n",
              "  <script>\n",
              "    async function quickchart(key) {\n",
              "      const quickchartButtonEl =\n",
              "        document.querySelector('#' + key + ' button');\n",
              "      quickchartButtonEl.disabled = true;  // To prevent multiple clicks.\n",
              "      quickchartButtonEl.classList.add('colab-df-spinner');\n",
              "      try {\n",
              "        const charts = await google.colab.kernel.invokeFunction(\n",
              "            'suggestCharts', [key], {});\n",
              "      } catch (error) {\n",
              "        console.error('Error during call to suggestCharts:', error);\n",
              "      }\n",
              "      quickchartButtonEl.classList.remove('colab-df-spinner');\n",
              "      quickchartButtonEl.classList.add('colab-df-quickchart-complete');\n",
              "    }\n",
              "    (() => {\n",
              "      let quickchartButtonEl =\n",
              "        document.querySelector('#df-6dad9323-e8a1-49f2-9e8d-2910dad74ca5 button');\n",
              "      quickchartButtonEl.style.display =\n",
              "        google.colab.kernel.accessAllowed ? 'block' : 'none';\n",
              "    })();\n",
              "  </script>\n",
              "</div>\n",
              "\n",
              "    </div>\n",
              "  </div>\n"
            ],
            "text/plain": [
              "      ROA(C) before interest and depreciation before interest  \\\n",
              "count                                       5.455000e+03        \n",
              "mean                                        9.638893e-16        \n",
              "std                                         1.000092e+00        \n",
              "min                                        -8.065445e+00        \n",
              "25%                                        -4.843902e-01        \n",
              "50%                                        -3.512435e-02        \n",
              "75%                                         5.123418e-01        \n",
              "max                                         8.313529e+00        \n",
              "\n",
              "      ROA(A) before interest and % after tax  \\\n",
              "count                           5.455000e+03   \n",
              "mean                           -1.458860e-16   \n",
              "std                             1.000092e+00   \n",
              "min                            -8.656815e+00   \n",
              "25%                            -3.560391e-01   \n",
              "50%                             2.313264e-02   \n",
              "75%                             4.741653e-01   \n",
              "max                             6.614888e+00   \n",
              "\n",
              "      ROA(B) before interest and depreciation after tax  \\\n",
              "count                                      5.455000e+03   \n",
              "mean                                      -3.529919e-16   \n",
              "std                                        1.000092e+00   \n",
              "min                                       -8.617812e+00   \n",
              "25%                                       -4.367774e-01   \n",
              "50%                                       -1.596241e-02   \n",
              "75%                                        5.065052e-01   \n",
              "max                                        6.709088e+00   \n",
              "\n",
              "      Operating Gross Margin Realized Sales Gross Margin  \\\n",
              "count           5.455000e+03                5.455000e+03   \n",
              "mean            1.685504e-15                9.853814e-16   \n",
              "std             1.000092e+00                1.000092e+00   \n",
              "min            -3.400558e+01               -3.402697e+01   \n",
              "25%            -4.158285e-01               -4.149955e-01   \n",
              "50%            -1.059715e-01               -1.063475e-01   \n",
              "75%             3.355295e-01                3.301978e-01   \n",
              "max             2.194125e+01                2.195654e+01   \n",
              "\n",
              "      Operating Profit Rate Pre-tax net Interest Rate  \\\n",
              "count          5.455000e+03              5.455000e+03   \n",
              "mean           7.527455e-15              6.742015e-15   \n",
              "std            1.000092e+00              1.000092e+00   \n",
              "min           -6.867168e+01             -5.544260e+01   \n",
              "25%            1.892862e-02              1.803552e-02   \n",
              "50%            2.253575e-02              2.336611e-02   \n",
              "75%            2.756109e-02              3.140530e-02   \n",
              "max            8.984751e-02              1.411051e+01   \n",
              "\n",
              "      After-tax net Interest Rate Non-industry income and expenditure/revenue  \\\n",
              "count                5.455000e+03                                5.455000e+03   \n",
              "mean                -8.032845e-15                               -1.636007e-15   \n",
              "std                  1.000092e+00                                1.000092e+00   \n",
              "min                 -5.327392e+01                               -2.437642e+01   \n",
              "25%                  1.903477e-02                               -1.404804e-02   \n",
              "50%                  2.321862e-02                               -9.274736e-03   \n",
              "75%                  2.934865e-02                               -4.423816e-03   \n",
              "max                  1.257587e+01                                5.590397e+01   \n",
              "\n",
              "      Continuous interest rate (after tax)  ... Net Income to Total Assets  \\\n",
              "count                         5.455000e+03  ...               5.455000e+03   \n",
              "mean                          1.471885e-16  ...               7.124966e-16   \n",
              "std                           1.000092e+00  ...               1.000092e+00   \n",
              "min                          -5.515853e+01  ...              -2.046218e+01   \n",
              "25%                           1.713594e-02  ...              -2.776820e-01   \n",
              "50%                           2.192163e-02  ...               7.276329e-02   \n",
              "75%                           2.887229e-02  ...               4.717794e-01   \n",
              "max                           1.543775e+01  ...               4.874985e+00   \n",
              "\n",
              "      Total assets to GNP price No-credit Interval Gross Profit to Sales  \\\n",
              "count               5455.000000       5.455000e+03          5.455000e+03   \n",
              "mean                   0.000000       3.068490e-15          2.194802e-15   \n",
              "std                    1.000092       1.000092e+00          1.000092e+00   \n",
              "min                   -0.052316      -4.681236e+01         -3.400552e+01   \n",
              "25%                   -0.052316      -2.110068e-02         -4.157114e-01   \n",
              "50%                   -0.052316      -3.200639e-03         -1.060183e-01   \n",
              "75%                   -0.052316       1.849697e-02          3.356210e-01   \n",
              "max                   23.820943       2.821695e+01          2.194137e+01   \n",
              "\n",
              "      Net Income to Stockholder's Equity Liability to Equity  \\\n",
              "count                       5.455000e+03        5.455000e+03   \n",
              "mean                        8.151378e-15        1.052463e-15   \n",
              "std                         1.000092e+00        1.000092e+00   \n",
              "min                        -5.863025e+01       -7.219406e+00   \n",
              "25%                        -2.136542e-02       -2.547576e-01   \n",
              "50%                         5.355599e-02       -1.176335e-01   \n",
              "75%                         1.356253e-01        8.511341e-02   \n",
              "max                         1.113383e+01        5.320648e+01   \n",
              "\n",
              "      Degree of Financial Leverage (DFL)  \\\n",
              "count                       5.455000e+03   \n",
              "mean                        1.563064e-17   \n",
              "std                         1.000092e+00   \n",
              "min                        -1.523700e+00   \n",
              "25%                        -4.503271e-02   \n",
              "50%                        -4.398507e-02   \n",
              "75%                        -3.762261e-02   \n",
              "max                         5.904909e+01   \n",
              "\n",
              "      Interest Coverage Ratio (Interest expense to EBIT) Net Income Flag  \\\n",
              "count                                       5.455000e+03          5455.0   \n",
              "mean                                       -1.982486e-15             0.0   \n",
              "std                                         1.000092e+00             0.0   \n",
              "min                                        -4.855591e+01             0.0   \n",
              "25%                                        -1.844023e-02             0.0   \n",
              "50%                                        -1.040661e-02             0.0   \n",
              "75%                                         3.003574e-02             0.0   \n",
              "max                                         1.473853e+01             0.0   \n",
              "\n",
              "      Equity to Liability  \n",
              "count        5.455000e+03  \n",
              "mean        -1.237425e-16  \n",
              "std          1.000092e+00  \n",
              "min         -9.445645e-01  \n",
              "25%         -4.598337e-01  \n",
              "50%         -2.744973e-01  \n",
              "75%          1.006669e-01  \n",
              "max          1.906536e+01  \n",
              "\n",
              "[8 rows x 95 columns]"
            ]
          },
          "execution_count": 28,
          "metadata": {},
          "output_type": "execute_result"
        }
      ],
      "source": [
        "X_train_scaled.describe()"
      ]
    },
    {
      "cell_type": "code",
      "execution_count": null,
      "metadata": {
        "id": "wd69snnTSZFX"
      },
      "outputs": [],
      "source": [
        "#Run SVM with default hyperparameters"
      ]
    },
    {
      "cell_type": "code",
      "execution_count": null,
      "metadata": {
        "colab": {
          "base_uri": "https://localhost:8080/"
        },
        "id": "1je6FgTJSZCw",
        "outputId": "11087f7f-4863-4323-8eb7-ac6d6a795ffa"
      },
      "outputs": [
        {
          "name": "stdout",
          "output_type": "stream",
          "text": [
            "Model accuracy score with default hyperparameters: 0.9670\n",
            "Execution time: 0.7494 seconds\n"
          ]
        }
      ],
      "source": [
        "# import SVC classifier\n",
        "# Start the timer\n",
        "start_time = time.time()\n",
        "\n",
        "from sklearn.svm import SVC\n",
        "\n",
        "\n",
        "# import metrics to compute accuracy\n",
        "from sklearn.metrics import accuracy_score\n",
        "\n",
        "\n",
        "# instantiate classifier with default hyperparameters\n",
        "svc=SVC()\n",
        "\n",
        "\n",
        "# fit classifier to training set\n",
        "svc.fit(X_train_scaled,y_train)\n",
        "\n",
        "\n",
        "# make predictions on test set\n",
        "y_pred=svc.predict(X_test_scaled)\n",
        "\n",
        "\n",
        "# compute and print accuracy score\n",
        "print('Model accuracy score with default hyperparameters: {0:0.4f}'. format(accuracy_score(y_test, y_pred)))\n",
        "\n",
        "# End the timer\n",
        "end_time = time.time()\n",
        "\n",
        "# Print the execution time\n",
        "execution_time = end_time - start_time\n",
        "print('Execution time: {0:.4f} seconds'.format(execution_time))"
      ]
    },
    {
      "cell_type": "code",
      "execution_count": null,
      "metadata": {
        "id": "x6gEBFn0SkoE"
      },
      "outputs": [],
      "source": [
        "#Run SVM with rbf kernel and C=100.0\n",
        "#We have seen that there are outliers in our dataset.\n",
        "#So, we should increase the value of C as higher C means fewer outliers.\n",
        "#So, I will run SVM with kernel=rbf and C=100.0."
      ]
    },
    {
      "cell_type": "code",
      "execution_count": null,
      "metadata": {
        "colab": {
          "base_uri": "https://localhost:8080/"
        },
        "id": "9HEG6F6kSkkr",
        "outputId": "82970d94-b461-41b8-e925-5f5f1f876c63"
      },
      "outputs": [
        {
          "name": "stdout",
          "output_type": "stream",
          "text": [
            "Model accuracy score with rbf kernel and C=100.0 : 0.9575\n",
            "Execution time: 0.4821 seconds\n"
          ]
        }
      ],
      "source": [
        "# instantiate classifier with rbf kernel and C=100\n",
        "start_time = time.time()\n",
        "\n",
        "svc=SVC(C=100.0)\n",
        "#A higher C value means the model will try to classify all training examples correctly by assigning higher penalties to misclassifications.\n",
        "\n",
        "# fit classifier to training set\n",
        "svc.fit(X_train_scaled,y_train)\n",
        "\n",
        "\n",
        "# make predictions on test set\n",
        "y_pred=svc.predict(X_test_scaled)\n",
        "\n",
        "\n",
        "# compute and print accuracy score\n",
        "print('Model accuracy score with rbf kernel and C=100.0 : {0:0.4f}'. format(accuracy_score(y_test, y_pred)))\n",
        "\n",
        "end_time = time.time()\n",
        "\n",
        "# Print the execution time\n",
        "execution_time = end_time - start_time\n",
        "print('Execution time: {0:.4f} seconds'.format(execution_time))"
      ]
    },
    {
      "cell_type": "code",
      "execution_count": null,
      "metadata": {
        "id": "2v9hZEL9SkiF"
      },
      "outputs": [],
      "source": [
        "#Run SVM with rbf kernel and C=1000.0"
      ]
    },
    {
      "cell_type": "code",
      "execution_count": null,
      "metadata": {
        "colab": {
          "base_uri": "https://localhost:8080/"
        },
        "id": "9waJvZGlS2Hj",
        "outputId": "d17f7811-4b9d-4af8-bb3e-cf57074acca7"
      },
      "outputs": [
        {
          "name": "stdout",
          "output_type": "stream",
          "text": [
            "Model accuracy score with rbf kernel and C=1000.0 : 0.9538\n",
            "Execution time: 0.5176 seconds\n"
          ]
        }
      ],
      "source": [
        "# instantiate classifier with rbf kernel and C=1000\n",
        "start_time = time.time()\n",
        "\n",
        "svc=SVC(C=1000.0)\n",
        "#A higher C value means the model will try to classify all training examples correctly by assigning higher penalties to misclassifications.\n",
        "\n",
        "# fit classifier to training set\n",
        "svc.fit(X_train_scaled,y_train)\n",
        "\n",
        "\n",
        "# make predictions on test set\n",
        "y_pred=svc.predict(X_test_scaled)\n",
        "\n",
        "\n",
        "# compute and print accuracy score\n",
        "print('Model accuracy score with rbf kernel and C=1000.0 : {0:0.4f}'. format(accuracy_score(y_test, y_pred)))\n",
        "\n",
        "end_time = time.time()\n",
        "\n",
        "# Print the execution time\n",
        "execution_time = end_time - start_time\n",
        "print('Execution time: {0:.4f} seconds'.format(execution_time))"
      ]
    },
    {
      "cell_type": "code",
      "execution_count": null,
      "metadata": {
        "id": "oZcXuhUNS2Eb"
      },
      "outputs": [],
      "source": [
        "#Run SVM with linear kernel"
      ]
    },
    {
      "cell_type": "code",
      "execution_count": null,
      "metadata": {
        "id": "P-jxn_4gS16z"
      },
      "outputs": [],
      "source": [
        "#Run SVM with linear kernel and C=1.0"
      ]
    },
    {
      "cell_type": "code",
      "execution_count": null,
      "metadata": {
        "colab": {
          "base_uri": "https://localhost:8080/"
        },
        "id": "UgNzSeJ2S131",
        "outputId": "93dad1c3-1694-492b-c059-4aba456f627c"
      },
      "outputs": [
        {
          "name": "stdout",
          "output_type": "stream",
          "text": [
            "Model accuracy score with linear kernel and C=1.0 : 0.9670\n",
            "Execution time: 2.5389 seconds\n"
          ]
        }
      ],
      "source": [
        "# instantiate classifier with linear kernel and C=1.0\n",
        "# Start the timer\n",
        "start_time = time.time()\n",
        "\n",
        "linear_svc=SVC(kernel='linear', C=1.0)\n",
        "\n",
        "\n",
        "# fit classifier to training set\n",
        "linear_svc.fit(X_train_scaled,y_train)\n",
        "\n",
        "\n",
        "# make predictions on test set\n",
        "y_pred_test=linear_svc.predict(X_test_scaled)\n",
        "\n",
        "\n",
        "# compute and print accuracy score\n",
        "print('Model accuracy score with linear kernel and C=1.0 : {0:0.4f}'. format(accuracy_score(y_test, y_pred_test)))\n",
        "\n",
        "# End the timer\n",
        "end_time = time.time()\n",
        "\n",
        "# Print the execution time\n",
        "execution_time = end_time - start_time\n",
        "print('Execution time: {0:.4f} seconds'.format(execution_time))"
      ]
    },
    {
      "cell_type": "code",
      "execution_count": null,
      "metadata": {
        "id": "TQliKwoCS10s"
      },
      "outputs": [],
      "source": [
        "#Run SVM with linear kernel and C=100.0"
      ]
    },
    {
      "cell_type": "code",
      "execution_count": null,
      "metadata": {
        "colab": {
          "base_uri": "https://localhost:8080/"
        },
        "id": "3hTlnXsaS1yL",
        "outputId": "bfb38a7a-2ca1-4ac8-a5ab-630a9ac76fe3"
      },
      "outputs": [
        {
          "name": "stdout",
          "output_type": "stream",
          "text": [
            "Model accuracy score with linear kernel and C=100.0 : 0.9670\n",
            "Execution time: 159.1571 seconds\n"
          ]
        }
      ],
      "source": [
        "# instantiate classifier with linear kernel and C=100.0\n",
        "start_time = time.time()\n",
        "\n",
        "linear_svc100=SVC(kernel='linear', C=100.0)\n",
        "\n",
        "\n",
        "# fit classifier to training set\n",
        "linear_svc100.fit(X_train_scaled, y_train)\n",
        "\n",
        "\n",
        "# make predictions on test set\n",
        "y_pred=linear_svc100.predict(X_test_scaled)\n",
        "\n",
        "\n",
        "# compute and print accuracy score\n",
        "print('Model accuracy score with linear kernel and C=100.0 : {0:0.4f}'. format(accuracy_score(y_test, y_pred)))\n",
        "\n",
        "end_time = time.time()\n",
        "\n",
        "# Print the execution time\n",
        "execution_time = end_time - start_time\n",
        "print('Execution time: {0:.4f} seconds'.format(execution_time))"
      ]
    },
    {
      "cell_type": "code",
      "execution_count": null,
      "metadata": {
        "id": "rKhIjZ_MTW1L"
      },
      "outputs": [],
      "source": [
        "#Run SVM with linear kernel and C=500.0"
      ]
    },
    {
      "cell_type": "code",
      "execution_count": null,
      "metadata": {
        "colab": {
          "base_uri": "https://localhost:8080/"
        },
        "id": "61U5Jx0UTWyL",
        "outputId": "0e029a09-80e4-4e6b-9dd3-0b793c69d8c6"
      },
      "outputs": [
        {
          "name": "stdout",
          "output_type": "stream",
          "text": [
            "Model accuracy score with linear kernel and C=500.0 : 0.9677\n",
            "Execution time: 819.6058 seconds\n"
          ]
        }
      ],
      "source": [
        "# instantiate classifier with linear kernel and C=500.0\n",
        "start_time = time.time()\n",
        "\n",
        "linear_svc500=SVC(kernel='linear', C=500.0)\n",
        "\n",
        "\n",
        "# fit classifier to training set\n",
        "linear_svc500.fit(X_train_scaled, y_train)\n",
        "\n",
        "\n",
        "# make predictions on test set\n",
        "y_pred=linear_svc500.predict(X_test_scaled)\n",
        "\n",
        "\n",
        "# compute and print accuracy score\n",
        "print('Model accuracy score with linear kernel and C=500.0 : {0:0.4f}'. format(accuracy_score(y_test, y_pred)))\n",
        "\n",
        "end_time = time.time()\n",
        "\n",
        "# Print the execution time\n",
        "execution_time = end_time - start_time\n",
        "print('Execution time: {0:.4f} seconds'.format(execution_time))"
      ]
    },
    {
      "cell_type": "code",
      "execution_count": null,
      "metadata": {
        "id": "t3zZ1tyFTWvL"
      },
      "outputs": [],
      "source": [
        "# y_test are the true class labels and y_pred are the predicted class labels in the test-set."
      ]
    },
    {
      "cell_type": "code",
      "execution_count": null,
      "metadata": {
        "id": "IgCbx3mBUNIT"
      },
      "outputs": [],
      "source": [
        "#Compare the train-set and test-set accuracy"
      ]
    },
    {
      "cell_type": "code",
      "execution_count": null,
      "metadata": {
        "colab": {
          "base_uri": "https://localhost:8080/"
        },
        "id": "T0cMZF4LUNFV",
        "outputId": "89817a5f-6fe1-4163-f3b9-8c88c92d2f6e"
      },
      "outputs": [
        {
          "data": {
            "text/plain": [
              "array([0, 0, 0, ..., 0, 0, 0])"
            ]
          },
          "execution_count": 44,
          "metadata": {},
          "output_type": "execute_result"
        }
      ],
      "source": [
        "y_pred_train = linear_svc.predict(X_train_scaled)\n",
        "\n",
        "y_pred_train"
      ]
    },
    {
      "cell_type": "code",
      "execution_count": null,
      "metadata": {
        "colab": {
          "base_uri": "https://localhost:8080/"
        },
        "id": "sReypt5eUNCl",
        "outputId": "fc1c8858-3215-48f3-e6af-efa721d4ffa2"
      },
      "outputs": [
        {
          "name": "stdout",
          "output_type": "stream",
          "text": [
            "Training-set accuracy score: 0.9716\n"
          ]
        }
      ],
      "source": [
        "print('Training-set accuracy score: {0:0.4f}'. format(accuracy_score(y_train, y_pred_train)))"
      ]
    },
    {
      "cell_type": "code",
      "execution_count": null,
      "metadata": {
        "id": "xISSuiICUM_n"
      },
      "outputs": [],
      "source": [
        "#Check for overfitting and underfitting"
      ]
    },
    {
      "cell_type": "code",
      "execution_count": null,
      "metadata": {
        "colab": {
          "base_uri": "https://localhost:8080/"
        },
        "id": "uvo54Ms0UdgY",
        "outputId": "6ebff589-0d0b-4df9-ab1c-1901b2a1f7ba"
      },
      "outputs": [
        {
          "name": "stdout",
          "output_type": "stream",
          "text": [
            "Training set score: 0.9716\n",
            "Test set score: 0.9670\n"
          ]
        }
      ],
      "source": [
        "# print the scores on training and test set\n",
        "\n",
        "print('Training set score: {:.4f}'.format(linear_svc.score(X_train_scaled, y_train)))\n",
        "\n",
        "print('Test set score: {:.4f}'.format(linear_svc.score(X_test_scaled, y_test)))"
      ]
    },
    {
      "cell_type": "code",
      "execution_count": null,
      "metadata": {
        "id": "aLMTMi5CUddQ"
      },
      "outputs": [],
      "source": [
        "#Compare model accuracy with null accuracy¶\n",
        "\n",
        "#So, the model accuracy is 0.9832.\n",
        "#But, we cannot say that our model is very good based on the above accuracy.\n",
        "#We must compare it with the null accuracy.\n",
        "#Null accuracy is the accuracy that could be achieved by always predicting the most frequent class."
      ]
    },
    {
      "cell_type": "code",
      "execution_count": null,
      "metadata": {
        "colab": {
          "base_uri": "https://localhost:8080/"
        },
        "id": "wSoudVY2UdaP",
        "outputId": "cdda11f6-d9e5-4b78-dba2-5e82a354da7a"
      },
      "outputs": [
        {
          "data": {
            "text/plain": [
              "Bankrupt?\n",
              "0    1318\n",
              "1      46\n",
              "Name: count, dtype: int64"
            ]
          },
          "execution_count": 49,
          "metadata": {},
          "output_type": "execute_result"
        }
      ],
      "source": [
        "# check class distribution in test set\n",
        "\n",
        "y_test.value_counts()"
      ]
    },
    {
      "cell_type": "code",
      "execution_count": null,
      "metadata": {
        "id": "HX76yWeCU1Au"
      },
      "outputs": [],
      "source": [
        "#We can see that the occurences of most frequent class 0 is 1318. So, we can calculate null accuracy by dividing 1318 by total number of occurences.\n"
      ]
    },
    {
      "cell_type": "code",
      "execution_count": null,
      "metadata": {
        "colab": {
          "base_uri": "https://localhost:8080/"
        },
        "id": "JIRcFttIUdXi",
        "outputId": "111e48c0-0279-4ba8-cfb7-232da7aaaedb"
      },
      "outputs": [
        {
          "name": "stdout",
          "output_type": "stream",
          "text": [
            "Null accuracy score: 0.9663\n"
          ]
        }
      ],
      "source": [
        "# check null accuracy score\n",
        "\n",
        "null_accuracy = (1318/(1318+46))\n",
        "\n",
        "print('Null accuracy score: {0:0.4f}'. format(null_accuracy))"
      ]
    },
    {
      "cell_type": "code",
      "execution_count": null,
      "metadata": {
        "id": "Q96jqGjyUunj"
      },
      "outputs": [],
      "source": [
        "#Run SVM with polynomial kernel"
      ]
    },
    {
      "cell_type": "code",
      "execution_count": null,
      "metadata": {
        "id": "IopohiPMU9Rj"
      },
      "outputs": [],
      "source": [
        "#Run SVM with polynomial kernel and C=1.0"
      ]
    },
    {
      "cell_type": "code",
      "execution_count": null,
      "metadata": {
        "colab": {
          "base_uri": "https://localhost:8080/"
        },
        "id": "6eyoJIhXUukN",
        "outputId": "41e980f7-8b5d-4b62-8a78-195c8af95a52"
      },
      "outputs": [
        {
          "name": "stdout",
          "output_type": "stream",
          "text": [
            "Model accuracy score with polynomial kernel and C=1.0 : 0.9677\n",
            "Execution time: 0.4599 seconds\n"
          ]
        }
      ],
      "source": [
        "# instantiate classifier with polynomial kernel and C=1.0\n",
        "start_time = time.time()\n",
        "\n",
        "poly_svc=SVC(kernel='poly', C=1.0)\n",
        "\n",
        "\n",
        "# fit classifier to training set\n",
        "poly_svc.fit(X_train_scaled,y_train)\n",
        "\n",
        "\n",
        "# make predictions on test set\n",
        "y_pred=poly_svc.predict(X_test_scaled)\n",
        "\n",
        "\n",
        "# compute and print accuracy score\n",
        "print('Model accuracy score with polynomial kernel and C=1.0 : {0:0.4f}'. format(accuracy_score(y_test, y_pred)))\n",
        "\n",
        "end_time = time.time()\n",
        "\n",
        "# Print the execution time\n",
        "execution_time = end_time - start_time\n",
        "print('Execution time: {0:.4f} seconds'.format(execution_time))"
      ]
    },
    {
      "cell_type": "code",
      "execution_count": null,
      "metadata": {
        "id": "Eal5XrAiUug8"
      },
      "outputs": [],
      "source": [
        "#Run SVM with polynomial kernel and C=100.0"
      ]
    },
    {
      "cell_type": "code",
      "execution_count": null,
      "metadata": {
        "colab": {
          "base_uri": "https://localhost:8080/"
        },
        "id": "Ng1yzIW7UueE",
        "outputId": "ca870bd7-8841-4126-a127-e3467a2bb33e"
      },
      "outputs": [
        {
          "name": "stdout",
          "output_type": "stream",
          "text": [
            "Model accuracy score with polynomial kernel and C=1.0 : 0.9575\n",
            "Execution time: 1.2803 seconds\n"
          ]
        }
      ],
      "source": [
        "# instantiate classifier with polynomial kernel and C=100.0\n",
        "start_time = time.time()\n",
        "\n",
        "poly_svc100=SVC(kernel='poly', C=100.0)\n",
        "\n",
        "\n",
        "# fit classifier to training set\n",
        "poly_svc100.fit(X_train_scaled, y_train)\n",
        "\n",
        "\n",
        "# make predictions on test set\n",
        "y_pred=poly_svc100.predict(X_test_scaled)\n",
        "\n",
        "\n",
        "# compute and print accuracy score\n",
        "print('Model accuracy score with polynomial kernel and C=1.0 : {0:0.4f}'. format(accuracy_score(y_test, y_pred)))\n",
        "\n",
        "end_time = time.time()\n",
        "\n",
        "# Print the execution time\n",
        "execution_time = end_time - start_time\n",
        "print('Execution time: {0:.4f} seconds'.format(execution_time))"
      ]
    },
    {
      "cell_type": "code",
      "execution_count": null,
      "metadata": {
        "id": "ciyvt80GVJd4"
      },
      "outputs": [],
      "source": [
        "#Run SVM with sigmoid kernel"
      ]
    },
    {
      "cell_type": "code",
      "execution_count": null,
      "metadata": {
        "id": "1mvdqlPNVJbV"
      },
      "outputs": [],
      "source": [
        "#Run SVM with sigmoid kernel and C=1.0"
      ]
    },
    {
      "cell_type": "code",
      "execution_count": null,
      "metadata": {
        "colab": {
          "base_uri": "https://localhost:8080/"
        },
        "id": "ZNqjIyj7VJYU",
        "outputId": "cd81a144-f400-40e0-df54-f13f1b5da260"
      },
      "outputs": [
        {
          "name": "stdout",
          "output_type": "stream",
          "text": [
            "Model accuracy score with sigmoid kernel and C=1.0 : 0.9604\n",
            "Execution time: 0.3208 seconds\n"
          ]
        }
      ],
      "source": [
        "# instantiate classifier with sigmoid kernel and C=1.0\n",
        "start_time = time.time()\n",
        "\n",
        "sigmoid_svc=SVC(kernel='sigmoid', C=1.0)\n",
        "\n",
        "\n",
        "# fit classifier to training set\n",
        "sigmoid_svc.fit(X_train_scaled,y_train)\n",
        "\n",
        "\n",
        "# make predictions on test set\n",
        "y_pred=sigmoid_svc.predict(X_test_scaled)\n",
        "\n",
        "\n",
        "# compute and print accuracy score\n",
        "print('Model accuracy score with sigmoid kernel and C=1.0 : {0:0.4f}'. format(accuracy_score(y_test, y_pred)))\n",
        "\n",
        "end_time = time.time()\n",
        "\n",
        "# Print the execution time\n",
        "execution_time = end_time - start_time\n",
        "print('Execution time: {0:.4f} seconds'.format(execution_time))"
      ]
    },
    {
      "cell_type": "code",
      "execution_count": null,
      "metadata": {
        "id": "LdAuGMh2VJVX"
      },
      "outputs": [],
      "source": [
        "#Run SVM with sigmoid kernel and C=100.0"
      ]
    },
    {
      "cell_type": "code",
      "execution_count": null,
      "metadata": {
        "colab": {
          "base_uri": "https://localhost:8080/"
        },
        "id": "OHWTLN8nVJSd",
        "outputId": "bc5d40cb-6179-4170-e9b9-8f1949f32897"
      },
      "outputs": [
        {
          "name": "stdout",
          "output_type": "stream",
          "text": [
            "Model accuracy score with sigmoid kernel and C=100.0 : 0.9384\n",
            "Execution time: 0.3371 seconds\n"
          ]
        }
      ],
      "source": [
        "# instantiate classifier with sigmoid kernel and C=100.0\n",
        "start_time = time.time()\n",
        "\n",
        "sigmoid_svc100=SVC(kernel='sigmoid', C=100.0)\n",
        "\n",
        "\n",
        "# fit classifier to training set\n",
        "sigmoid_svc100.fit(X_train_scaled,y_train)\n",
        "\n",
        "\n",
        "# make predictions on test set\n",
        "y_pred=sigmoid_svc100.predict(X_test_scaled)\n",
        "\n",
        "\n",
        "# compute and print accuracy score\n",
        "print('Model accuracy score with sigmoid kernel and C=100.0 : {0:0.4f}'. format(accuracy_score(y_test, y_pred)))\n",
        "\n",
        "end_time = time.time()\n",
        "\n",
        "# Print the execution time\n",
        "execution_time = end_time - start_time\n",
        "print('Execution time: {0:.4f} seconds'.format(execution_time))"
      ]
    },
    {
      "cell_type": "code",
      "execution_count": null,
      "metadata": {
        "id": "oRB7pi2bVY92"
      },
      "outputs": [],
      "source": [
        "#Confusion matrix"
      ]
    },
    {
      "cell_type": "code",
      "execution_count": null,
      "metadata": {
        "colab": {
          "base_uri": "https://localhost:8080/"
        },
        "id": "uvhFeNyGVY6_",
        "outputId": "8037fd5f-1ca8-440e-ceac-ec1c1bd5118a"
      },
      "outputs": [
        {
          "name": "stdout",
          "output_type": "stream",
          "text": [
            "Confusion matrix\n",
            "\n",
            " [[1315    3]\n",
            " [  42    4]]\n",
            "\n",
            "True Positives(TP) =  1315\n",
            "\n",
            "True Negatives(TN) =  4\n",
            "\n",
            "False Positives(FP) =  3\n",
            "\n",
            "False Negatives(FN) =  42\n"
          ]
        }
      ],
      "source": [
        "# Print the Confusion Matrix and slice it into four pieces\n",
        "\n",
        "from sklearn.metrics import confusion_matrix\n",
        "\n",
        "cm = confusion_matrix(y_test, y_pred_test)\n",
        "\n",
        "print('Confusion matrix\\n\\n', cm)\n",
        "\n",
        "print('\\nTrue Positives(TP) = ', cm[0,0])\n",
        "\n",
        "print('\\nTrue Negatives(TN) = ', cm[1,1])\n",
        "\n",
        "print('\\nFalse Positives(FP) = ', cm[0,1])\n",
        "\n",
        "print('\\nFalse Negatives(FN) = ', cm[1,0])"
      ]
    },
    {
      "cell_type": "code",
      "execution_count": null,
      "metadata": {
        "colab": {
          "base_uri": "https://localhost:8080/"
        },
        "id": "u8d1XhYCVY4M",
        "outputId": "cbc76266-e909-42e2-e19a-7cf6cc78a0b7"
      },
      "outputs": [
        {
          "data": {
            "text/plain": [
              "<Axes: >"
            ]
          },
          "execution_count": 64,
          "metadata": {},
          "output_type": "execute_result"
        },
        {
          "data": {
            "image/png": "[encoded data removed]",
            "text/plain": [
              "<Figure size 640x480 with 2 Axes>"
            ]
          },
          "metadata": {},
          "output_type": "display_data"
        }
      ],
      "source": [
        "# visualize confusion matrix with seaborn heatmap\n",
        "\n",
        "cm_matrix = pd.DataFrame(data=cm, columns=['Actual Positive:1', 'Actual Negative:0'],\n",
        "                                 index=['Predict Positive:1', 'Predict Negative:0'])\n",
        "\n",
        "sns.heatmap(cm_matrix, annot=True, fmt='d', cmap='YlGnBu')"
      ]
    },
    {
      "cell_type": "code",
      "execution_count": null,
      "metadata": {
        "id": "xWgQsZD6VY1y"
      },
      "outputs": [],
      "source": [
        "#Classification metrices"
      ]
    },
    {
      "cell_type": "code",
      "execution_count": null,
      "metadata": {
        "id": "0Iq4q2otVmnN"
      },
      "outputs": [],
      "source": [
        "from sklearn.metrics import classification_report\n",
        "\n",
        "print(classification_report(y_test, y_pred_test))"
      ]
    },
    {
      "cell_type": "code",
      "execution_count": null,
      "metadata": {
        "id": "ea42HyWrVmkd"
      },
      "outputs": [],
      "source": [
        "#Classification accuracy"
      ]
    },
    {
      "cell_type": "code",
      "execution_count": null,
      "metadata": {
        "id": "2AqQEcjRVwbs"
      },
      "outputs": [],
      "source": [
        "TP = cm[0,0]\n",
        "TN = cm[1,1]\n",
        "FP = cm[0,1]\n",
        "FN = cm[1,0]"
      ]
    },
    {
      "cell_type": "code",
      "execution_count": null,
      "metadata": {
        "id": "e0-LKda5VwZF"
      },
      "outputs": [],
      "source": [
        "# print classification accuracy\n",
        "\n",
        "classification_accuracy = (TP + TN) / float(TP + TN + FP + FN)\n",
        "\n",
        "print('Classification accuracy : {0:0.4f}'.format(classification_accuracy))"
      ]
    },
    {
      "cell_type": "code",
      "execution_count": null,
      "metadata": {
        "id": "LLJVQ5XpVwWU"
      },
      "outputs": [],
      "source": [
        "#Classification error"
      ]
    },
    {
      "cell_type": "code",
      "execution_count": null,
      "metadata": {
        "id": "-ufvHi_9VwTo"
      },
      "outputs": [],
      "source": [
        "# print classification error\n",
        "\n",
        "classification_error = (FP + FN) / float(TP + TN + FP + FN)\n",
        "\n",
        "print('Classification error : {0:0.4f}'.format(classification_error))\n",
        "\n"
      ]
    },
    {
      "cell_type": "code",
      "execution_count": null,
      "metadata": {
        "id": "mHAYzVQaWPpF"
      },
      "outputs": [],
      "source": [
        "\"\"\"\n",
        "Precision\n",
        "\n",
        "Precision can be defined as the percentage of correctly predicted positive outcomes out of all the predicted positive outcomes.\n",
        "It can be given as the ratio of true positives (TP) to the sum of true and false positives (TP + FP).\n",
        "\n",
        "So, Precision identifies the proportion of correctly predicted positive outcome. It is more concerned with the positive class than the negative class.\n",
        "\n",
        "Mathematically, precision can be defined as the ratio of TP to (TP + FP).\n",
        "\"\"\""
      ]
    },
    {
      "cell_type": "code",
      "execution_count": null,
      "metadata": {
        "id": "IAakhMNlWGx8"
      },
      "outputs": [],
      "source": [
        "# print precision score\n",
        "\n",
        "precision = TP / float(TP + FP)\n",
        "\n",
        "\n",
        "print('Precision : {0:0.4f}'.format(precision))"
      ]
    },
    {
      "cell_type": "code",
      "execution_count": null,
      "metadata": {
        "id": "QzdqU7e4WGvC"
      },
      "outputs": [],
      "source": [
        "\"\"\"\n",
        "Recall\n",
        "\n",
        "Recall can be defined as the percentage of correctly predicted positive outcomes out of all the actual positive outcomes. It can be given as the ratio of true positives (TP) to the sum of true positives and false negatives (TP + FN). Recall is also called Sensitivity.\n",
        "\n",
        "Recall identifies the proportion of correctly predicted actual positives.\n",
        "\n",
        "Mathematically, recall can be defined as the ratio of TP to (TP + FN)\"\"\""
      ]
    },
    {
      "cell_type": "code",
      "execution_count": null,
      "metadata": {
        "id": "PCfugaU2WGr8"
      },
      "outputs": [],
      "source": [
        "recall = TP / float(TP + FN)\n",
        "\n",
        "print('Recall or Sensitivity : {0:0.4f}'.format(recall))"
      ]
    },
    {
      "cell_type": "code",
      "execution_count": null,
      "metadata": {
        "id": "zWnvQDUaWhQ2"
      },
      "outputs": [],
      "source": [
        "#True Positive Rate\n",
        "\n",
        "#True Positive Rate is synonymous with Recall."
      ]
    },
    {
      "cell_type": "code",
      "execution_count": null,
      "metadata": {
        "id": "7MP0zj2DWGpE"
      },
      "outputs": [],
      "source": [
        "true_positive_rate = TP / float(TP + FN)\n",
        "\n",
        "\n",
        "print('True Positive Rate : {0:0.4f}'.format(true_positive_rate))"
      ]
    },
    {
      "cell_type": "code",
      "execution_count": null,
      "metadata": {
        "id": "-zkQFzKHWdUo"
      },
      "outputs": [],
      "source": [
        "#False Positive Rate"
      ]
    },
    {
      "cell_type": "code",
      "execution_count": null,
      "metadata": {
        "id": "mtR-SNykWdRg"
      },
      "outputs": [],
      "source": [
        "false_positive_rate = FP / float(FP + TN)\n",
        "\n",
        "print('False Positive Rate : {0:0.4f}'.format(false_positive_rate))"
      ]
    },
    {
      "cell_type": "code",
      "execution_count": null,
      "metadata": {
        "id": "E6y5p1uVWdOq"
      },
      "outputs": [],
      "source": [
        "#Specificity"
      ]
    },
    {
      "cell_type": "code",
      "execution_count": null,
      "metadata": {
        "id": "u7J5Al-oWdMB"
      },
      "outputs": [],
      "source": [
        "specificity = TN / (TN + FP)\n",
        "\n",
        "print('Specificity : {0:0.4f}'.format(specificity))"
      ]
    },
    {
      "cell_type": "code",
      "execution_count": null,
      "metadata": {
        "id": "OvE6YEykWwVV"
      },
      "outputs": [],
      "source": [
        "\"\"\"\n",
        "f1-score¶\n",
        "\n",
        "f1-score is the weighted harmonic mean of precision and recall.\n",
        "The best possible f1-score would be 1.0 and the worst would be 0.0.\n",
        "f1-score is the harmonic mean of precision and recall.\n",
        "So, f1-score is always lower than accuracy measures as they embed precision and recall into their computation.\n",
        "The weighted average of f1-score should be used to compare classifier models, not global accuracy.\n",
        "\"\"\""
      ]
    },
    {
      "cell_type": "code",
      "execution_count": null,
      "metadata": {
        "id": "wEPfLs1PWwSK"
      },
      "outputs": [],
      "source": [
        "#ROC - AUC"
      ]
    },
    {
      "cell_type": "code",
      "execution_count": null,
      "metadata": {
        "id": "aQNzdT2SWwPS"
      },
      "outputs": [],
      "source": [
        "\"\"\"\n",
        "ROC Curve\n",
        "\n",
        "Another tool to measure the classification model performance visually is ROC Curve.\n",
        "ROC Curve stands for Receiver Operating Characteristic Curve.\n",
        "An ROC Curve is a plot which shows the performance of a classification model at various classification threshold levels.\n",
        "\n",
        "The ROC Curve plots the True Positive Rate (TPR) against the False Positive Rate (FPR) at various threshold levels.\n",
        "\n",
        "True Positive Rate (TPR) is also called Recall. It is defined as the ratio of TP to (TP + FN).\n",
        "\n",
        "False Positive Rate (FPR) is defined as the ratio of FP to (FP + TN).\n",
        "\n",
        "In the ROC Curve, we will focus on the TPR (True Positive Rate) and FPR (False Positive Rate) of a single point.\n",
        "This will give us the general performance of the ROC curve which consists of the TPR and FPR at various threshold levels.\n",
        "So, an ROC Curve plots TPR vs FPR at different classification threshold levels.\n",
        "If we lower the threshold levels, it may result in more items being classified as positve.\n",
        "It will increase both True Positives (TP) and False Positives (FP).\n",
        "\"\"\""
      ]
    },
    {
      "cell_type": "code",
      "execution_count": null,
      "metadata": {
        "id": "zvBp6WUeWwMd"
      },
      "outputs": [],
      "source": [
        "# plot ROC Curve\n",
        "\n",
        "from sklearn.metrics import roc_curve\n",
        "\n",
        "fpr, tpr, thresholds = roc_curve(y_test, y_pred_test)\n",
        "\n",
        "plt.figure(figsize=(6,4))\n",
        "\n",
        "plt.plot(fpr, tpr, linewidth=2)\n",
        "\n",
        "plt.plot([0,1], [0,1], 'k--' )\n",
        "\n",
        "plt.rcParams['font.size'] = 12\n",
        "\n",
        "plt.title('ROC curve for Predicting Taiwanese Banks Bankruptcy')\n",
        "\n",
        "plt.xlabel('False Positive Rate (1 - Specificity)')\n",
        "\n",
        "plt.ylabel('True Positive Rate (Sensitivity)')\n",
        "\n",
        "plt.show()"
      ]
    },
    {
      "cell_type": "code",
      "execution_count": null,
      "metadata": {
        "id": "idtbH2p2blLw"
      },
      "outputs": [],
      "source": [
        "\"\"\"\n",
        "ROC AUC\n",
        "\n",
        "ROC AUC stands for Receiver Operating Characteristic - Area Under Curve.\n",
        "It is a technique to compare classifier performance.\n",
        "In this technique, we measure the area under the curve (AUC).\n",
        "A perfect classifier will have a ROC AUC equal to 1, whereas a purely random classifier will have a ROC AUC equal to 0.5.\n",
        "\n",
        "So, ROC AUC is the percentage of the ROC plot that is underneath the curve.\n",
        "\"\"\""
      ]
    },
    {
      "cell_type": "code",
      "execution_count": null,
      "metadata": {
        "id": "XawV19IcblI_"
      },
      "outputs": [],
      "source": [
        "# compute ROC AUC\n",
        "\n",
        "from sklearn.metrics import roc_auc_score\n",
        "\n",
        "ROC_AUC = roc_auc_score(y_test, y_pred_test)\n",
        "\n",
        "print('ROC AUC : {:.4f}'.format(ROC_AUC))\n",
        "\n",
        "#ROC AUC is a single number summary of classifier performance. The higher the value, the better the classifier.\n",
        "\n",
        "#ROC AUC of our model approaches towards 1. So, we can conclude that our classifier does a bad job in classifying the banks' bankruptcy.\n",
        "\n"
      ]
    },
    {
      "cell_type": "code",
      "execution_count": null,
      "metadata": {
        "colab": {
          "background_save": true
        },
        "id": "4mKW2qDtblGI",
        "outputId": "1ff321c4-0766-442e-d2aa-581e52eed9a3"
      },
      "outputs": [
        {
          "name": "stdout",
          "output_type": "stream",
          "text": [
            "Cross validated ROC AUC : 0.8695\n"
          ]
        }
      ],
      "source": [
        "# calculate cross-validated ROC AUC\n",
        "\n",
        "from sklearn.model_selection import cross_val_score\n",
        "\n",
        "Cross_validated_ROC_AUC = cross_val_score(linear_svc, X_train_scaled, y_train, cv=10, scoring='roc_auc').mean()\n",
        "\n",
        "print('Cross validated ROC AUC : {:.4f}'.format(Cross_validated_ROC_AUC))"
      ]
    },
    {
      "cell_type": "code",
      "execution_count": null,
      "metadata": {
        "colab": {
          "background_save": true
        },
        "id": "NWyGkK-koJ8B"
      },
      "outputs": [],
      "source": [
        "#Handling Class Imbalance\n",
        "#Bankrupt?\n",
        "#0    0.967737\n",
        "#1    0.032263\n",
        "#From above we can see the banks with bankruptcy data are highly under represented in the dataset,\n",
        "#To handle the class imbalance, you can use techniques like oversampling the minority class, undersampling the majority class,\n",
        "#or using more advanced methods like SMOTE (Synthetic Minority Over-sampling Technique)."
      ]
    },
    {
      "cell_type": "code",
      "execution_count": null,
      "metadata": {
        "colab": {
          "background_save": true
        },
        "id": "LLD07OfboJoQ",
        "outputId": "460de44c-ada9-466f-b010-8e414205e0b1"
      },
      "outputs": [
        {
          "name": "stdout",
          "output_type": "stream",
          "text": [
            "Original target distribution: Counter({0: 5281, 1: 174})\n",
            "Resampled target distribution: Counter({0: 5281, 1: 5281})\n"
          ]
        }
      ],
      "source": [
        "from imblearn.over_sampling import SMOTE\n",
        "from collections import Counter\n",
        "\n",
        "# Check the distribution of target variable before balancing\n",
        "print(f'Original target distribution: {Counter(y_train)}')\n",
        "\n",
        "# Apply SMOTE to the training set\n",
        "smote = SMOTE(random_state=42)\n",
        "X_train_smote, y_train_smote = smote.fit_resample(X_train, y_train)\n",
        "\n",
        "# Check the distribution of target variable after balancing\n",
        "print(f'Resampled target distribution: {Counter(y_train_smote)}')\n"
      ]
    },
    {
      "cell_type": "code",
      "execution_count": null,
      "metadata": {
        "colab": {
          "background_save": true
        },
        "id": "XblDO4eqoJW9"
      },
      "outputs": [],
      "source": [
        "#Performing PCA\n",
        "\n",
        "#PCA is used for dimensionality reduction to transform the dataset into fewer dimensions while retaining most of the variance in the data.\n",
        "#We have 96 features in total and we would like to cut it down to a reasonable number to process more intensive\n"
      ]
    },
    {
      "cell_type": "code",
      "execution_count": null,
      "metadata": {
        "colab": {
          "background_save": true
        },
        "id": "Y6UA1-JFqGoY",
        "outputId": "ba954f69-8f25-4bf0-d225-d80ca26b633a"
      },
      "outputs": [
        {
          "name": "stdout",
          "output_type": "stream",
          "text": [
            "Explained variance by each component: [0.16438117 0.07672452 0.04874278 0.04255332 0.04093004 0.0335149\n",
            " 0.02986066 0.02848711 0.02726217 0.02613162 0.01925496 0.01784027\n",
            " 0.0168064  0.01652277 0.01557272 0.01503896 0.01444295 0.01306988\n",
            " 0.01198961 0.01189781 0.01176479 0.0116308  0.01149037 0.01091741\n",
            " 0.0108005 ]\n",
            "Cumulative explained variance: [0.16438117 0.24110569 0.28984847 0.33240179 0.37333183 0.40684673\n",
            " 0.43670739 0.4651945  0.49245666 0.51858828 0.53784324 0.55568351\n",
            " 0.57248991 0.58901269 0.6045854  0.61962436 0.63406732 0.64713719\n",
            " 0.65912681 0.67102462 0.6827894  0.69442021 0.70591058 0.71682799\n",
            " 0.72762849]\n"
          ]
        }
      ],
      "source": [
        "from sklearn.decomposition import PCA\n",
        "\n",
        "# Standardize the dataset\n",
        "scaler = StandardScaler()\n",
        "X_train_smote_scaled = scaler.fit_transform(X_train_smote)\n",
        "X_test_scaled2 = scaler.transform(X_test)\n",
        "\n",
        "# Apply PCA\n",
        "pca = PCA(n_components=25)  # Adjust the number of components based on your requirement\n",
        "X_train_pca = pca.fit_transform(X_train_smote_scaled)\n",
        "X_test_pca = pca.transform(X_test_scaled2)\n",
        "\n",
        "# Check the explained variance ratio\n",
        "explained_variance = pca.explained_variance_ratio_\n",
        "print(f'Explained variance by each component: {explained_variance}')\n",
        "cumulative_variance = np.cumsum(explained_variance)\n",
        "print(f'Cumulative explained variance: {cumulative_variance}')\n"
      ]
    },
    {
      "cell_type": "code",
      "execution_count": null,
      "metadata": {
        "colab": {
          "background_save": true
        },
        "id": "KIPd4wsN60pe",
        "outputId": "3a247589-f45c-47b5-f652-80bf75e83404"
      },
      "outputs": [
        {
          "data": {
            "image/png": "[encoded data removed]",
            "text/plain": [
              "<Figure size 1000x600 with 1 Axes>"
            ]
          },
          "metadata": {},
          "output_type": "display_data"
        }
      ],
      "source": [
        "import matplotlib.pyplot as plt\n",
        "\n",
        "# Plot the cumulative explained variance\n",
        "plt.figure(figsize=(10, 6))\n",
        "plt.plot(range(1, len(cumulative_variance) + 1), cumulative_variance, marker='o', linestyle='--')\n",
        "plt.xlabel('Number of Principal Components')\n",
        "plt.ylabel('Cumulative Explained Variance')\n",
        "plt.title('Explained Variance by Principal Components')\n",
        "plt.grid()\n",
        "plt.show()"
      ]
    },
    {
      "cell_type": "code",
      "execution_count": null,
      "metadata": {
        "colab": {
          "base_uri": "https://localhost:8080/",
          "height": 437
        },
        "id": "lDqhXA9dy66A",
        "outputId": "90f511c9-5f5c-405c-b14c-451f5438efb6"
      },
      "outputs": [
        {
          "name": "stdout",
          "output_type": "stream",
          "text": [
            "Model accuracy score with PCA and balanced data: 0.9120\n"
          ]
        },
        {
          "data": {
            "image/png": "[encoded data removed]",
            "text/plain": [
              "<Figure size 600x400 with 1 Axes>"
            ]
          },
          "metadata": {},
          "output_type": "display_data"
        }
      ],
      "source": [
        "from sklearn.svm import SVC\n",
        "from sklearn.metrics import accuracy_score, roc_curve, auc\n",
        "\n",
        "# Instantiate the SVM classifier with default hyperparameters\n",
        "svc = SVC()\n",
        "\n",
        "# Fit the classifier to the PCA-transformed training set\n",
        "svc.fit(X_train_pca, y_train_smote)\n",
        "\n",
        "# Make predictions on the PCA-transformed test set\n",
        "y_pred_pca = svc.predict(X_test_pca)\n",
        "\n",
        "# Compute and print the accuracy score\n",
        "accuracy = accuracy_score(y_test, y_pred_pca)\n",
        "print(f'Model accuracy score with PCA and balanced data: {accuracy:.4f}')\n",
        "\n",
        "# Plot ROC Curve\n",
        "fpr, tpr, thresholds = roc_curve(y_test, y_pred_pca)\n",
        "roc_auc = auc(fpr, tpr)\n",
        "\n",
        "plt.figure(figsize=(6, 4))\n",
        "plt.plot(fpr, tpr, color='darkorange', lw=2, label=f'ROC curve (area = {roc_auc:.2f})')\n",
        "plt.plot([0, 1], [0, 1], color='navy', lw=2, linestyle='--')\n",
        "plt.xlim([0.0, 1.0])\n",
        "plt.ylim([0.0, 1.05])\n",
        "plt.xlabel('False Positive Rate')\n",
        "plt.ylabel('True Positive Rate')\n",
        "plt.title('Receiver Operating Characteristic (ROC) Curve')\n",
        "plt.legend(loc='lower right')\n",
        "plt.show()\n"
      ]
    },
    {
      "cell_type": "code",
      "execution_count": null,
      "metadata": {
        "colab": {
          "base_uri": "https://localhost:8080/",
          "height": 1000
        },
        "id": "mKh1Elf9y62F",
        "outputId": "2d8be4f6-fc50-42a3-89b5-60cb2c5c70ee"
      },
      "outputs": [
        {
          "ename": "ValueError",
          "evalue": "X has 2 features, but SVC is expecting 25 features as input.",
          "output_type": "error",
          "traceback": [
            "\u001b[0;31m---------------------------------------------------------------------------\u001b[0m",
            "\u001b[0;31mValueError\u001b[0m                                Traceback (most recent call last)",
            "\u001b[0;32m<ipython-input-109-9f8445651366>\u001b[0m in \u001b[0;36m<cell line: 35>\u001b[0;34m()\u001b[0m\n\u001b[1;32m     33\u001b[0m \u001b[0;34m\u001b[0m\u001b[0m\n\u001b[1;32m     34\u001b[0m \u001b[0;31m# Plot the decision boundary (using first two components)\u001b[0m\u001b[0;34m\u001b[0m\u001b[0;34m\u001b[0m\u001b[0m\n\u001b[0;32m---> 35\u001b[0;31m \u001b[0mplot_svm_decision_boundary\u001b[0m\u001b[0;34m(\u001b[0m\u001b[0msvc\u001b[0m\u001b[0;34m,\u001b[0m \u001b[0mX_train_pca\u001b[0m\u001b[0;34m,\u001b[0m \u001b[0my_train_smote\u001b[0m\u001b[0;34m)\u001b[0m\u001b[0;34m\u001b[0m\u001b[0;34m\u001b[0m\u001b[0m\n\u001b[0m",
            "\u001b[0;32m<ipython-input-109-9f8445651366>\u001b[0m in \u001b[0;36mplot_svm_decision_boundary\u001b[0;34m(model, X, y)\u001b[0m\n\u001b[1;32m     14\u001b[0m \u001b[0;34m\u001b[0m\u001b[0m\n\u001b[1;32m     15\u001b[0m     \u001b[0;31m# Use the first two components for decision function\u001b[0m\u001b[0;34m\u001b[0m\u001b[0;34m\u001b[0m\u001b[0m\n\u001b[0;32m---> 16\u001b[0;31m     \u001b[0mZ\u001b[0m \u001b[0;34m=\u001b[0m \u001b[0mmodel\u001b[0m\u001b[0;34m.\u001b[0m\u001b[0mdecision_function\u001b[0m\u001b[0;34m(\u001b[0m\u001b[0mnp\u001b[0m\u001b[0;34m.\u001b[0m\u001b[0mc_\u001b[0m\u001b[0;34m[\u001b[0m\u001b[0mxx\u001b[0m\u001b[0;34m.\u001b[0m\u001b[0mravel\u001b[0m\u001b[0;34m(\u001b[0m\u001b[0;34m)\u001b[0m\u001b[0;34m,\u001b[0m \u001b[0myy\u001b[0m\u001b[0;34m.\u001b[0m\u001b[0mravel\u001b[0m\u001b[0;34m(\u001b[0m\u001b[0;34m)\u001b[0m\u001b[0;34m]\u001b[0m\u001b[0;34m)\u001b[0m\u001b[0;34m\u001b[0m\u001b[0;34m\u001b[0m\u001b[0m\n\u001b[0m\u001b[1;32m     17\u001b[0m     \u001b[0mZ\u001b[0m \u001b[0;34m=\u001b[0m \u001b[0mZ\u001b[0m\u001b[0;34m.\u001b[0m\u001b[0mreshape\u001b[0m\u001b[0;34m(\u001b[0m\u001b[0mxx\u001b[0m\u001b[0;34m.\u001b[0m\u001b[0mshape\u001b[0m\u001b[0;34m)\u001b[0m\u001b[0;34m\u001b[0m\u001b[0;34m\u001b[0m\u001b[0m\n\u001b[1;32m     18\u001b[0m \u001b[0;34m\u001b[0m\u001b[0m\n",
            "\u001b[0;32m/usr/local/lib/python3.10/dist-packages/sklearn/svm/_base.py\u001b[0m in \u001b[0;36mdecision_function\u001b[0;34m(self, X)\u001b[0m\n\u001b[1;32m    783\u001b[0m         \u001b[0mtransformation\u001b[0m \u001b[0mof\u001b[0m \u001b[0movo\u001b[0m \u001b[0mdecision\u001b[0m \u001b[0mfunction\u001b[0m\u001b[0;34m.\u001b[0m\u001b[0;34m\u001b[0m\u001b[0;34m\u001b[0m\u001b[0m\n\u001b[1;32m    784\u001b[0m         \"\"\"\n\u001b[0;32m--> 785\u001b[0;31m         \u001b[0mdec\u001b[0m \u001b[0;34m=\u001b[0m \u001b[0mself\u001b[0m\u001b[0;34m.\u001b[0m\u001b[0m_decision_function\u001b[0m\u001b[0;34m(\u001b[0m\u001b[0mX\u001b[0m\u001b[0;34m)\u001b[0m\u001b[0;34m\u001b[0m\u001b[0;34m\u001b[0m\u001b[0m\n\u001b[0m\u001b[1;32m    786\u001b[0m         \u001b[0;32mif\u001b[0m \u001b[0mself\u001b[0m\u001b[0;34m.\u001b[0m\u001b[0mdecision_function_shape\u001b[0m \u001b[0;34m==\u001b[0m \u001b[0;34m\"ovr\"\u001b[0m \u001b[0;32mand\u001b[0m \u001b[0mlen\u001b[0m\u001b[0;34m(\u001b[0m\u001b[0mself\u001b[0m\u001b[0;34m.\u001b[0m\u001b[0mclasses_\u001b[0m\u001b[0;34m)\u001b[0m \u001b[0;34m>\u001b[0m \u001b[0;36m2\u001b[0m\u001b[0;34m:\u001b[0m\u001b[0;34m\u001b[0m\u001b[0;34m\u001b[0m\u001b[0m\n\u001b[1;32m    787\u001b[0m             \u001b[0;32mreturn\u001b[0m \u001b[0m_ovr_decision_function\u001b[0m\u001b[0;34m(\u001b[0m\u001b[0mdec\u001b[0m \u001b[0;34m<\u001b[0m \u001b[0;36m0\u001b[0m\u001b[0;34m,\u001b[0m \u001b[0;34m-\u001b[0m\u001b[0mdec\u001b[0m\u001b[0;34m,\u001b[0m \u001b[0mlen\u001b[0m\u001b[0;34m(\u001b[0m\u001b[0mself\u001b[0m\u001b[0;34m.\u001b[0m\u001b[0mclasses_\u001b[0m\u001b[0;34m)\u001b[0m\u001b[0;34m)\u001b[0m\u001b[0;34m\u001b[0m\u001b[0;34m\u001b[0m\u001b[0m\n",
            "\u001b[0;32m/usr/local/lib/python3.10/dist-packages/sklearn/svm/_base.py\u001b[0m in \u001b[0;36m_decision_function\u001b[0;34m(self, X)\u001b[0m\n\u001b[1;32m    532\u001b[0m         \u001b[0;31m# NOTE: _validate_for_predict contains check for is_fitted\u001b[0m\u001b[0;34m\u001b[0m\u001b[0;34m\u001b[0m\u001b[0m\n\u001b[1;32m    533\u001b[0m         \u001b[0;31m# hence must be placed before any other attributes are used.\u001b[0m\u001b[0;34m\u001b[0m\u001b[0;34m\u001b[0m\u001b[0m\n\u001b[0;32m--> 534\u001b[0;31m         \u001b[0mX\u001b[0m \u001b[0;34m=\u001b[0m \u001b[0mself\u001b[0m\u001b[0;34m.\u001b[0m\u001b[0m_validate_for_predict\u001b[0m\u001b[0;34m(\u001b[0m\u001b[0mX\u001b[0m\u001b[0;34m)\u001b[0m\u001b[0;34m\u001b[0m\u001b[0;34m\u001b[0m\u001b[0m\n\u001b[0m\u001b[1;32m    535\u001b[0m         \u001b[0mX\u001b[0m \u001b[0;34m=\u001b[0m \u001b[0mself\u001b[0m\u001b[0;34m.\u001b[0m\u001b[0m_compute_kernel\u001b[0m\u001b[0;34m(\u001b[0m\u001b[0mX\u001b[0m\u001b[0;34m)\u001b[0m\u001b[0;34m\u001b[0m\u001b[0;34m\u001b[0m\u001b[0m\n\u001b[1;32m    536\u001b[0m \u001b[0;34m\u001b[0m\u001b[0m\n",
            "\u001b[0;32m/usr/local/lib/python3.10/dist-packages/sklearn/svm/_base.py\u001b[0m in \u001b[0;36m_validate_for_predict\u001b[0;34m(self, X)\u001b[0m\n\u001b[1;32m    611\u001b[0m \u001b[0;34m\u001b[0m\u001b[0m\n\u001b[1;32m    612\u001b[0m         \u001b[0;32mif\u001b[0m \u001b[0;32mnot\u001b[0m \u001b[0mcallable\u001b[0m\u001b[0;34m(\u001b[0m\u001b[0mself\u001b[0m\u001b[0;34m.\u001b[0m\u001b[0mkernel\u001b[0m\u001b[0;34m)\u001b[0m\u001b[0;34m:\u001b[0m\u001b[0;34m\u001b[0m\u001b[0;34m\u001b[0m\u001b[0m\n\u001b[0;32m--> 613\u001b[0;31m             X = self._validate_data(\n\u001b[0m\u001b[1;32m    614\u001b[0m                 \u001b[0mX\u001b[0m\u001b[0;34m,\u001b[0m\u001b[0;34m\u001b[0m\u001b[0;34m\u001b[0m\u001b[0m\n\u001b[1;32m    615\u001b[0m                 \u001b[0maccept_sparse\u001b[0m\u001b[0;34m=\u001b[0m\u001b[0;34m\"csr\"\u001b[0m\u001b[0;34m,\u001b[0m\u001b[0;34m\u001b[0m\u001b[0;34m\u001b[0m\u001b[0m\n",
            "\u001b[0;32m/usr/local/lib/python3.10/dist-packages/sklearn/base.py\u001b[0m in \u001b[0;36m_validate_data\u001b[0;34m(self, X, y, reset, validate_separately, **check_params)\u001b[0m\n\u001b[1;32m    586\u001b[0m \u001b[0;34m\u001b[0m\u001b[0m\n\u001b[1;32m    587\u001b[0m         \u001b[0;32mif\u001b[0m \u001b[0;32mnot\u001b[0m \u001b[0mno_val_X\u001b[0m \u001b[0;32mand\u001b[0m \u001b[0mcheck_params\u001b[0m\u001b[0;34m.\u001b[0m\u001b[0mget\u001b[0m\u001b[0;34m(\u001b[0m\u001b[0;34m\"ensure_2d\"\u001b[0m\u001b[0;34m,\u001b[0m \u001b[0;32mTrue\u001b[0m\u001b[0;34m)\u001b[0m\u001b[0;34m:\u001b[0m\u001b[0;34m\u001b[0m\u001b[0;34m\u001b[0m\u001b[0m\n\u001b[0;32m--> 588\u001b[0;31m             \u001b[0mself\u001b[0m\u001b[0;34m.\u001b[0m\u001b[0m_check_n_features\u001b[0m\u001b[0;34m(\u001b[0m\u001b[0mX\u001b[0m\u001b[0;34m,\u001b[0m \u001b[0mreset\u001b[0m\u001b[0;34m=\u001b[0m\u001b[0mreset\u001b[0m\u001b[0;34m)\u001b[0m\u001b[0;34m\u001b[0m\u001b[0;34m\u001b[0m\u001b[0m\n\u001b[0m\u001b[1;32m    589\u001b[0m \u001b[0;34m\u001b[0m\u001b[0m\n\u001b[1;32m    590\u001b[0m         \u001b[0;32mreturn\u001b[0m \u001b[0mout\u001b[0m\u001b[0;34m\u001b[0m\u001b[0;34m\u001b[0m\u001b[0m\n",
            "\u001b[0;32m/usr/local/lib/python3.10/dist-packages/sklearn/base.py\u001b[0m in \u001b[0;36m_check_n_features\u001b[0;34m(self, X, reset)\u001b[0m\n\u001b[1;32m    387\u001b[0m \u001b[0;34m\u001b[0m\u001b[0m\n\u001b[1;32m    388\u001b[0m         \u001b[0;32mif\u001b[0m \u001b[0mn_features\u001b[0m \u001b[0;34m!=\u001b[0m \u001b[0mself\u001b[0m\u001b[0;34m.\u001b[0m\u001b[0mn_features_in_\u001b[0m\u001b[0;34m:\u001b[0m\u001b[0;34m\u001b[0m\u001b[0;34m\u001b[0m\u001b[0m\n\u001b[0;32m--> 389\u001b[0;31m             raise ValueError(\n\u001b[0m\u001b[1;32m    390\u001b[0m                 \u001b[0;34mf\"X has {n_features} features, but {self.__class__.__name__} \"\u001b[0m\u001b[0;34m\u001b[0m\u001b[0;34m\u001b[0m\u001b[0m\n\u001b[1;32m    391\u001b[0m                 \u001b[0;34mf\"is expecting {self.n_features_in_} features as input.\"\u001b[0m\u001b[0;34m\u001b[0m\u001b[0;34m\u001b[0m\u001b[0m\n",
            "\u001b[0;31mValueError\u001b[0m: X has 2 features, but SVC is expecting 25 features as input."
          ]
        },
        {
          "data": {
            "image/png": "[encoded data removed]",
            "text/plain": [
              "<Figure size 1000x600 with 1 Axes>"
            ]
          },
          "metadata": {},
          "output_type": "display_data"
        }
      ],
      "source": [
        "# Plot decision boundary and support vectors (modified)\n",
        "def plot_svm_decision_boundary(model, X, y):\n",
        "    plt.figure(figsize=(10, 6))\n",
        "    ax = plt.gca()\n",
        "\n",
        "    # Use only the first two PCA components for plotting\n",
        "    X_2d = X[:, :2]\n",
        "\n",
        "    xlim = ax.get_xlim()\n",
        "    ylim = ax.get_ylim()\n",
        "\n",
        "    xx, yy = np.meshgrid(np.linspace(xlim[0], xlim[1], 500),\n",
        "                         np.linspace(ylim[0], ylim[1], 500))\n",
        "\n",
        "    # Use the first two components for decision function\n",
        "    Z = model.decision_function(np.c_[xx.ravel(), yy.ravel()])\n",
        "    Z = Z.reshape(xx.shape)\n",
        "\n",
        "    ax.contourf(xx, yy, Z, levels=np.linspace(Z.min(), 0, 7), cmap=plt.cm.PuBu)\n",
        "    ax.contour(xx, yy, Z, levels=[0], linewidths=2, colors='darkred')\n",
        "\n",
        "    # Plot the first two components of the data\n",
        "    ax.scatter(X_2d[:, 0], X_2d[:, 1], c=y, s=50, cmap=plt.cm.Paired, edgecolors='k')\n",
        "\n",
        "    # Plot support vectors (using first two components)\n",
        "    ax.scatter(model.support_vectors_[:, 0], model.support_vectors_[:, 1],\n",
        "               s=100, facecolors='none', edgecolors='k', linewidths=1.5)\n",
        "\n",
        "    plt.xlabel('PCA Component 1')\n",
        "    plt.ylabel('PCA Component 2')\n",
        "    plt.title('SVM Decision Boundary with Support Vectors')\n",
        "    plt.show()\n",
        "\n",
        "# Plot the decision boundary (using first two components)\n",
        "plot_svm_decision_boundary(svc, X_train_pca, y_train_smote)"
      ]
    },
    {
      "cell_type": "code",
      "execution_count": null,
      "metadata": {
        "id": "2V-vYDScb9uW"
      },
      "outputs": [],
      "source": [
        "#Stratified k-fold Cross Validation with shuffle split"
      ]
    },
    {
      "cell_type": "code",
      "execution_count": null,
      "metadata": {
        "colab": {
          "base_uri": "https://localhost:8080/",
          "height": 88
        },
        "id": "kXAxdVxIb9sA",
        "outputId": "d098af65-6f4c-4cdb-b009-f1930adfc1cf"
      },
      "outputs": [
        {
          "data": {
            "application/vnd.google.colaboratory.intrinsic+json": {
              "type": "string"
            },
            "text/plain": [
              "'\\nk-fold cross-validation is a very useful technique to evaluate model performance.\\nBut, it fails here because we have a imbalanced dataset.\\nSo, in the case of imbalanced dataset, I will use another technique to evaluate model performance.\\nIt is called stratified k-fold cross-validation.\\n\\nIn stratified k-fold cross-validation, we split the data such that the proportions between classes are the same in each fold as they are in the whole dataset.\\n\\nMoreover, I will shuffle the data before splitting because shuffling yields much better result\\n'"
            ]
          },
          "execution_count": 95,
          "metadata": {},
          "output_type": "execute_result"
        }
      ],
      "source": [
        "\"\"\"\n",
        "k-fold cross-validation is a very useful technique to evaluate model performance.\n",
        "But, it fails here because we have a imbalanced dataset.\n",
        "So, in the case of imbalanced dataset, I will use another technique to evaluate model performance.\n",
        "It is called stratified k-fold cross-validation.\n",
        "\n",
        "In stratified k-fold cross-validation, we split the data such that the proportions between classes are the same in each fold as they are in the whole dataset.\n",
        "\n",
        "Moreover, I will shuffle the data before splitting because shuffling yields much better result\n",
        "\"\"\""
      ]
    },
    {
      "cell_type": "code",
      "execution_count": null,
      "metadata": {
        "colab": {
          "base_uri": "https://localhost:8080/"
        },
        "id": "SfuYszRIf_Ea",
        "outputId": "95023238-5dbc-4880-9ea0-1d3b1dc977d3"
      },
      "outputs": [
        {
          "name": "stdout",
          "output_type": "stream",
          "text": [
            "Execution time: 29.7756 seconds\n"
          ]
        }
      ],
      "source": [
        "start_time = time.time()\n",
        "\n",
        "from sklearn.model_selection import KFold\n",
        "\n",
        "\n",
        "kfold=KFold(n_splits=5, shuffle=True, random_state=0)\n",
        "\n",
        "\n",
        "linear_svc=SVC(kernel='linear')\n",
        "\n",
        "\n",
        "linear_scores = cross_val_score(linear_svc, X_train_pca, y_train_smote, cv=kfold)\n",
        "\n",
        "end_time = time.time()\n",
        "execution_time = end_time - start_time\n",
        "print('Execution time: {0:.4f} seconds'.format(execution_time))\n"
      ]
    },
    {
      "cell_type": "code",
      "execution_count": null,
      "metadata": {
        "colab": {
          "base_uri": "https://localhost:8080/"
        },
        "id": "o3eFZWeJ4ufK",
        "outputId": "10a5531e-178e-4e51-8351-6b77ed87d47f"
      },
      "outputs": [
        {
          "name": "stdout",
          "output_type": "stream",
          "text": [
            "Cross-validation scores: [0.89256981 0.8902035  0.87736742 0.88352273 0.87594697]\n",
            "Mean cross-validation score: 0.883922085860976\n"
          ]
        }
      ],
      "source": [
        "# Print the cross-validation scores and execution time\n",
        "print('Cross-validation scores:', linear_scores)\n",
        "print('Mean cross-validation score:', linear_scores.mean())"
      ]
    },
    {
      "cell_type": "code",
      "execution_count": null,
      "metadata": {
        "id": "wHlSMjG1hfAb"
      },
      "outputs": [],
      "source": [
        "#Stratified k-Fold Cross Validation with shuffle split with rbf kernel"
      ]
    },
    {
      "cell_type": "code",
      "execution_count": null,
      "metadata": {
        "id": "OEces62nhe93"
      },
      "outputs": [],
      "source": [
        "rbf_svc=SVC(kernel='rbf')\n",
        "\n",
        "\n",
        "rbf_scores = cross_val_score(rbf_svc, X_train_pca, y_train_smote, cv=kfold)"
      ]
    },
    {
      "cell_type": "code",
      "execution_count": null,
      "metadata": {
        "colab": {
          "base_uri": "https://localhost:8080/"
        },
        "id": "3lsurGFMhokA",
        "outputId": "0b18e242-6189-47e4-8ee8-c4f58947d001"
      },
      "outputs": [
        {
          "name": "stdout",
          "output_type": "stream",
          "text": [
            "Stratified Cross-validation scores with rbf kernel:\n",
            "\n",
            "[0.93374349 0.92901088 0.92045455 0.91761364 0.91003788]\n"
          ]
        }
      ],
      "source": [
        "# print cross-validation scores with rbf kernel\n",
        "\n",
        "print('Stratified Cross-validation scores with rbf kernel:\\n\\n{}'.format(rbf_scores))\n",
        "\n"
      ]
    },
    {
      "cell_type": "code",
      "execution_count": null,
      "metadata": {
        "colab": {
          "base_uri": "https://localhost:8080/"
        },
        "id": "4Tqvj54qhohI",
        "outputId": "1f49252c-0be5-44a6-ed88-a913568d8b40"
      },
      "outputs": [
        {
          "name": "stdout",
          "output_type": "stream",
          "text": [
            "Average stratified cross-validation score with rbf kernel:0.9222\n"
          ]
        }
      ],
      "source": [
        "# print average cross-validation score with rbf kernel\n",
        "\n",
        "print('Average stratified cross-validation score with rbf kernel:{:.4f}'.format(rbf_scores.mean()))"
      ]
    },
    {
      "cell_type": "code",
      "execution_count": null,
      "metadata": {
        "colab": {
          "base_uri": "https://localhost:8080/",
          "height": 53
        },
        "id": "j8eR-FRxhoev",
        "outputId": "39aea438-20ec-4224-f475-ed5427d70968"
      },
      "outputs": [
        {
          "data": {
            "application/vnd.google.colaboratory.intrinsic+json": {
              "type": "string"
            },
            "text/plain": [
              "'\\nComments¶\\n\\nI obtain higher average stratified k-fold cross-validation score of 0.9214 with linear kernel but the model accuracy is 0.9832. \\nSo, stratified cross-validation technique does not help to improve the model performance.\\n'"
            ]
          },
          "execution_count": 102,
          "metadata": {},
          "output_type": "execute_result"
        }
      ],
      "source": [
        "\"\"\"\n",
        "Comments¶\n",
        "\n",
        "I obtain higher average stratified k-fold cross-validation score of 0.9214 with linear kernel but the model accuracy is 0.9832.\n",
        "So, stratified cross-validation technique does not help to improve the model performance.\n",
        "\"\"\""
      ]
    },
    {
      "cell_type": "code",
      "execution_count": null,
      "metadata": {
        "id": "scNOORTUh8c1"
      },
      "outputs": [],
      "source": [
        "#Hyperparameter Optimization using GridSearch CV"
      ]
    },
    {
      "cell_type": "code",
      "execution_count": null,
      "metadata": {
        "colab": {
          "base_uri": "https://localhost:8080/",
          "height": 341
        },
        "id": "3Wx9z9FBh8Zt",
        "outputId": "52ee9bdc-9680-4d8b-cf8a-f840f9db81d2"
      },
      "outputs": [
        {
          "data": {
            "text/html": [
              "<style>#sk-container-id-1 {color: black;background-color: white;}#sk-container-id-1 pre{padding: 0;}#sk-container-id-1 div.sk-toggleable {background-color: white;}#sk-container-id-1 label.sk-toggleable__label {cursor: pointer;display: block;width: 100%;margin-bottom: 0;padding: 0.3em;box-sizing: border-box;text-align: center;}#sk-container-id-1 label.sk-toggleable__label-arrow:before {content: \"▸\";float: left;margin-right: 0.25em;color: #696969;}#sk-container-id-1 label.sk-toggleable__label-arrow:hover:before {color: black;}#sk-container-id-1 div.sk-estimator:hover label.sk-toggleable__label-arrow:before {color: black;}#sk-container-id-1 div.sk-toggleable__content {max-height: 0;max-width: 0;overflow: hidden;text-align: left;background-color: #f0f8ff;}#sk-container-id-1 div.sk-toggleable__content pre {margin: 0.2em;color: black;border-radius: 0.25em;background-color: #f0f8ff;}#sk-container-id-1 input.sk-toggleable__control:checked~div.sk-toggleable__content {max-height: 200px;max-width: 100%;overflow: auto;}#sk-container-id-1 input.sk-toggleable__control:checked~label.sk-toggleable__label-arrow:before {content: \"▾\";}#sk-container-id-1 div.sk-estimator input.sk-toggleable__control:checked~label.sk-toggleable__label {background-color: #d4ebff;}#sk-container-id-1 div.sk-label input.sk-toggleable__control:checked~label.sk-toggleable__label {background-color: #d4ebff;}#sk-container-id-1 input.sk-hidden--visually {border: 0;clip: rect(1px 1px 1px 1px);clip: rect(1px, 1px, 1px, 1px);height: 1px;margin: -1px;overflow: hidden;padding: 0;position: absolute;width: 1px;}#sk-container-id-1 div.sk-estimator {font-family: monospace;background-color: #f0f8ff;border: 1px dotted black;border-radius: 0.25em;box-sizing: border-box;margin-bottom: 0.5em;}#sk-container-id-1 div.sk-estimator:hover {background-color: #d4ebff;}#sk-container-id-1 div.sk-parallel-item::after {content: \"\";width: 100%;border-bottom: 1px solid gray;flex-grow: 1;}#sk-container-id-1 div.sk-label:hover label.sk-toggleable__label {background-color: #d4ebff;}#sk-container-id-1 div.sk-serial::before {content: \"\";position: absolute;border-left: 1px solid gray;box-sizing: border-box;top: 0;bottom: 0;left: 50%;z-index: 0;}#sk-container-id-1 div.sk-serial {display: flex;flex-direction: column;align-items: center;background-color: white;padding-right: 0.2em;padding-left: 0.2em;position: relative;}#sk-container-id-1 div.sk-item {position: relative;z-index: 1;}#sk-container-id-1 div.sk-parallel {display: flex;align-items: stretch;justify-content: center;background-color: white;position: relative;}#sk-container-id-1 div.sk-item::before, #sk-container-id-1 div.sk-parallel-item::before {content: \"\";position: absolute;border-left: 1px solid gray;box-sizing: border-box;top: 0;bottom: 0;left: 50%;z-index: -1;}#sk-container-id-1 div.sk-parallel-item {display: flex;flex-direction: column;z-index: 1;position: relative;background-color: white;}#sk-container-id-1 div.sk-parallel-item:first-child::after {align-self: flex-end;width: 50%;}#sk-container-id-1 div.sk-parallel-item:last-child::after {align-self: flex-start;width: 50%;}#sk-container-id-1 div.sk-parallel-item:only-child::after {width: 0;}#sk-container-id-1 div.sk-dashed-wrapped {border: 1px dashed gray;margin: 0 0.4em 0.5em 0.4em;box-sizing: border-box;padding-bottom: 0.4em;background-color: white;}#sk-container-id-1 div.sk-label label {font-family: monospace;font-weight: bold;display: inline-block;line-height: 1.2em;}#sk-container-id-1 div.sk-label-container {text-align: center;}#sk-container-id-1 div.sk-container {/* jupyter's `normalize.less` sets `[hidden] { display: none; }` but bootstrap.min.css set `[hidden] { display: none !important; }` so we also need the `!important` here to be able to override the default hidden behavior on the sphinx rendered scikit-learn.org. See: https://github.com/scikit-learn/scikit-learn/issues/21755 */display: inline-block !important;position: relative;}#sk-container-id-1 div.sk-text-repr-fallback {display: none;}</style><div id=\"sk-container-id-1\" class=\"sk-top-container\"><div class=\"sk-text-repr-fallback\"><pre>GridSearchCV(cv=5, estimator=SVC(),\n",
              "             param_grid=[{&#x27;C&#x27;: [1, 10, 100], &#x27;kernel&#x27;: [&#x27;linear&#x27;]},\n",
              "                         {&#x27;C&#x27;: [1, 10, 100],\n",
              "                          &#x27;gamma&#x27;: [0.1, 0.2, 0.3, 0.4, 0.5, 0.6, 0.7, 0.8,\n",
              "                                    0.9],\n",
              "                          &#x27;kernel&#x27;: [&#x27;rbf&#x27;]},\n",
              "                         {&#x27;C&#x27;: [1, 10, 100], &#x27;degree&#x27;: [2, 3, 4],\n",
              "                          &#x27;gamma&#x27;: [0.01, 0.02, 0.03, 0.04, 0.05],\n",
              "                          &#x27;kernel&#x27;: [&#x27;poly&#x27;]}],\n",
              "             scoring=&#x27;accuracy&#x27;)</pre><b>In a Jupyter environment, please rerun this cell to show the HTML representation or trust the notebook. <br />On GitHub, the HTML representation is unable to render, please try loading this page with nbviewer.org.</b></div><div class=\"sk-container\" hidden><div class=\"sk-item sk-dashed-wrapped\"><div class=\"sk-label-container\"><div class=\"sk-label sk-toggleable\"><input class=\"sk-toggleable__control sk-hidden--visually\" id=\"sk-estimator-id-1\" type=\"checkbox\" ><label for=\"sk-estimator-id-1\" class=\"sk-toggleable__label sk-toggleable__label-arrow\">GridSearchCV</label><div class=\"sk-toggleable__content\"><pre>GridSearchCV(cv=5, estimator=SVC(),\n",
              "             param_grid=[{&#x27;C&#x27;: [1, 10, 100], &#x27;kernel&#x27;: [&#x27;linear&#x27;]},\n",
              "                         {&#x27;C&#x27;: [1, 10, 100],\n",
              "                          &#x27;gamma&#x27;: [0.1, 0.2, 0.3, 0.4, 0.5, 0.6, 0.7, 0.8,\n",
              "                                    0.9],\n",
              "                          &#x27;kernel&#x27;: [&#x27;rbf&#x27;]},\n",
              "                         {&#x27;C&#x27;: [1, 10, 100], &#x27;degree&#x27;: [2, 3, 4],\n",
              "                          &#x27;gamma&#x27;: [0.01, 0.02, 0.03, 0.04, 0.05],\n",
              "                          &#x27;kernel&#x27;: [&#x27;poly&#x27;]}],\n",
              "             scoring=&#x27;accuracy&#x27;)</pre></div></div></div><div class=\"sk-parallel\"><div class=\"sk-parallel-item\"><div class=\"sk-item\"><div class=\"sk-label-container\"><div class=\"sk-label sk-toggleable\"><input class=\"sk-toggleable__control sk-hidden--visually\" id=\"sk-estimator-id-2\" type=\"checkbox\" ><label for=\"sk-estimator-id-2\" class=\"sk-toggleable__label sk-toggleable__label-arrow\">estimator: SVC</label><div class=\"sk-toggleable__content\"><pre>SVC()</pre></div></div></div><div class=\"sk-serial\"><div class=\"sk-item\"><div class=\"sk-estimator sk-toggleable\"><input class=\"sk-toggleable__control sk-hidden--visually\" id=\"sk-estimator-id-3\" type=\"checkbox\" ><label for=\"sk-estimator-id-3\" class=\"sk-toggleable__label sk-toggleable__label-arrow\">SVC</label><div class=\"sk-toggleable__content\"><pre>SVC()</pre></div></div></div></div></div></div></div></div></div></div>"
            ],
            "text/plain": [
              "GridSearchCV(cv=5, estimator=SVC(),\n",
              "             param_grid=[{'C': [1, 10, 100], 'kernel': ['linear']},\n",
              "                         {'C': [1, 10, 100],\n",
              "                          'gamma': [0.1, 0.2, 0.3, 0.4, 0.5, 0.6, 0.7, 0.8,\n",
              "                                    0.9],\n",
              "                          'kernel': ['rbf']},\n",
              "                         {'C': [1, 10, 100], 'degree': [2, 3, 4],\n",
              "                          'gamma': [0.01, 0.02, 0.03, 0.04, 0.05],\n",
              "                          'kernel': ['poly']}],\n",
              "             scoring='accuracy')"
            ]
          },
          "execution_count": 104,
          "metadata": {},
          "output_type": "execute_result"
        }
      ],
      "source": [
        "start = time.time()\n",
        "\n",
        "# import GridSearchCV\n",
        "from sklearn.model_selection import GridSearchCV\n",
        "\n",
        "\n",
        "# import SVC classifier\n",
        "from sklearn.svm import SVC\n",
        "\n",
        "\n",
        "# instantiate classifier with default hyperparameters with kernel=rbf, C=1.0 and gamma=auto\n",
        "svc=SVC()\n",
        "\n",
        "\n",
        "\n",
        "# declare parameters for hyperparameter tuning\n",
        "parameters = [ {'C':[1, 10, 100], 'kernel':['linear']},\n",
        "               {'C':[1, 10, 100], 'kernel':['rbf'], 'gamma':[0.1, 0.2, 0.3, 0.4, 0.5, 0.6, 0.7, 0.8, 0.9]},\n",
        "               {'C':[1, 10, 100], 'kernel':['poly'], 'degree': [2,3,4] ,'gamma':[0.01,0.02,0.03,0.04,0.05]}\n",
        "              ]\n",
        "\n",
        "\n",
        "\n",
        "\n",
        "grid_search = GridSearchCV(estimator = svc,\n",
        "                           param_grid = parameters,\n",
        "                           scoring = 'accuracy',\n",
        "                           cv = 5,\n",
        "                           verbose=0)\n",
        "\n",
        "\n",
        "grid_search.fit(X_train_pca, y_train_smote)\n",
        "\n",
        "\n",
        "end = time.time()\n",
        "execution_time = end - start\n",
        "print('Execution time: {0:.4f} seconds'.format(execution_time))"
      ]
    },
    {
      "cell_type": "code",
      "execution_count": null,
      "metadata": {
        "colab": {
          "base_uri": "https://localhost:8080/"
        },
        "id": "9w1nIWveh8XA",
        "outputId": "5e4c2515-742d-463c-e774-369201dbd34a"
      },
      "outputs": [
        {
          "name": "stdout",
          "output_type": "stream",
          "text": [
            "GridSearch CV best score : 0.9813\n",
            "\n",
            "\n",
            "Parameters that give the best results : \n",
            "\n",
            " {'C': 10, 'gamma': 0.2, 'kernel': 'rbf'}\n",
            "\n",
            "\n",
            "Estimator that was chosen by the search : \n",
            "\n",
            " SVC(C=10, gamma=0.2)\n"
          ]
        }
      ],
      "source": [
        "# examine the best model\n",
        "\n",
        "\n",
        "# best score achieved during the GridSearchCV\n",
        "print('GridSearch CV best score : {:.4f}\\n\\n'.format(grid_search.best_score_))\n",
        "\n",
        "\n",
        "# print parameters that give the best results\n",
        "print('Parameters that give the best results :','\\n\\n', (grid_search.best_params_))\n",
        "\n",
        "\n",
        "# print estimator that was chosen by the GridSearch\n",
        "print('\\n\\nEstimator that was chosen by the search :','\\n\\n', (grid_search.best_estimator_))"
      ]
    },
    {
      "cell_type": "code",
      "execution_count": null,
      "metadata": {
        "colab": {
          "base_uri": "https://localhost:8080/"
        },
        "id": "Mmr9WFKniNhr",
        "outputId": "fd856ccc-d123-494d-892c-0020830965dc"
      },
      "outputs": [
        {
          "name": "stdout",
          "output_type": "stream",
          "text": [
            "GridSearch CV score on test set: 0.9560\n"
          ]
        }
      ],
      "source": [
        "# calculate GridSearch CV score on test set\n",
        "\n",
        "print('GridSearch CV score on test set: {0:0.4f}'.format(grid_search.score(X_test_pca, y_test)))"
      ]
    },
    {
      "cell_type": "code",
      "execution_count": null,
      "metadata": {
        "id": "3u2-MuqbiR0S"
      },
      "outputs": [],
      "source": [
        "\"\"\"\n",
        "\n",
        "Comments\n",
        "\n",
        "    Our original model test accuracy is 0.9832 while GridSearch CV score on test-set is 0.9835.\n",
        "\n",
        "    So, GridSearch CV helps to identify the parameters that will improve the performance for this particular model.\n",
        "\n",
        "    Here, we should not confuse best_score_ attribute of grid_search with the score method on the test-set.\n",
        "\n",
        "    The score method on the test-set gives the generalization performance of the model. Using the score method, we employ a model trained on the whole training set.\n",
        "\n",
        "    The best_score_ attribute gives the mean cross-validation accuracy, with cross-validation performed on the training set.\n",
        "\n",
        "\"\"\""
      ]
    },
    {
      "cell_type": "code",
      "execution_count": null,
      "metadata": {
        "id": "rDHuxFVpifGK"
      },
      "outputs": [],
      "source": [
        "#Results and conclusion"
      ]
    },
    {
      "cell_type": "code",
      "execution_count": null,
      "metadata": {
        "id": "kKW890oGifDM"
      },
      "outputs": [],
      "source": [
        "\n",
        "\"\"\"\n",
        "    There are outliers in our dataset. So, as I increase the value of C to limit fewer outliers, the accuracy increased. This is true with different kinds of kernels.\n",
        "\n",
        "    We get maximum accuracy with rbf and linear kernel with C=100.0 and the accuracy is 0.9832.\n",
        "    So, we can conclude that our model is doing a very good job in terms of predicting the class labels.\n",
        "    But, this is not true. Here, we have an imbalanced dataset. Accuracy is an inadequate measure for quantifying predictive performance in the imbalanced dataset problem.\n",
        "    So, we must explore confusion matrix that provide better guidance in selecting models.\n",
        "\n",
        "    ROC AUC of our model is very close to 1.\n",
        "    So, we can conclude that our classifier does a good job in classifying the pulsar star.\n",
        "\n",
        "    I obtain higher average stratified k-fold cross-validation score of 0.9789 with linear kernel but the model accuracy is 0.9832.\n",
        "    So, stratified cross-validation technique does not help to improve the model performance.\n",
        "\n",
        "    Our original model test accuracy is 0.9832 while GridSearch CV score on test-set is 0.9835.\n",
        "    So, GridSearch CV helps to identify the parameters that will improve the performance for this particular model.\n",
        "\"\"\""
      ]
    },
    {
      "cell_type": "code",
      "execution_count": null,
      "metadata": {
        "id": "P4vE4-JDifAC"
      },
      "outputs": [],
      "source": []
    },
    {
      "cell_type": "code",
      "execution_count": null,
      "metadata": {
        "id": "R2CbVrPSie9T"
      },
      "outputs": [],
      "source": []
    }
  ],
  "metadata": {
    "colab": {
      "provenance": [],
      "mount_file_id": "1e1mAGhvr4acqeOw2j5pcwSUjIcA-76Js",
      "authorship_tag": "ABX9TyOhSerBrLamCW9TTSeKuiAt"
    },
    "kernelspec": {
      "display_name": "Python 3",
      "name": "python3"
    },
    "language_info": {
      "name": "python"
    }
  },
  "nbformat": 4,
  "nbformat_minor": 0
}